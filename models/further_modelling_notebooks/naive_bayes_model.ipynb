{
 "cells": [
  {
   "cell_type": "code",
   "execution_count": 1,
   "id": "37e49439-ca23-4858-b462-e4763dc6f979",
   "metadata": {},
   "outputs": [
    {
     "name": "stderr",
     "output_type": "stream",
     "text": [
      "[nltk_data] Downloading package punkt to\n",
      "[nltk_data]     C:\\Users\\e.sansebastian\\AppData\\Roaming\\nltk_data...\n",
      "[nltk_data]   Package punkt is already up-to-date!\n",
      "[nltk_data] Downloading package stopwords to\n",
      "[nltk_data]     C:\\Users\\e.sansebastian\\AppData\\Roaming\\nltk_data...\n",
      "[nltk_data]   Package stopwords is already up-to-date!\n",
      "[nltk_data] Downloading package wordnet to\n",
      "[nltk_data]     C:\\Users\\e.sansebastian\\AppData\\Roaming\\nltk_data...\n",
      "[nltk_data]   Package wordnet is already up-to-date!\n",
      "[nltk_data] Downloading package tagsets to\n",
      "[nltk_data]     C:\\Users\\e.sansebastian\\AppData\\Roaming\\nltk_data...\n",
      "[nltk_data]   Package tagsets is already up-to-date!\n",
      "[nltk_data] Downloading package omw-1.4 to\n",
      "[nltk_data]     C:\\Users\\e.sansebastian\\AppData\\Roaming\\nltk_data...\n",
      "[nltk_data]   Package omw-1.4 is already up-to-date!\n"
     ]
    }
   ],
   "source": [
    "# importing libraries\n",
    "\n",
    "import numpy as np\n",
    "import pandas as pd\n",
    "from bs4 import BeautifulSoup\n",
    "import matplotlib.pyplot as plt\n",
    "import seaborn as sns\n",
    "import regex as re\n",
    "from nltk.tokenize import word_tokenize\n",
    "import nltk\n",
    "nltk.download('punkt')\n",
    "nltk.download('stopwords')\n",
    "nltk.download('wordnet')\n",
    "nltk.download('tagsets')\n",
    "nltk.download('omw-1.4')\n",
    "from nltk.stem import WordNetLemmatizer\n",
    "from nltk.stem.porter import *\n",
    "from nltk.stem import SnowballStemmer\n",
    "from nltk.corpus import stopwords\n",
    "from nltk.probability import FreqDist\n",
    "from sklearn.naive_bayes import CategoricalNB\n",
    "from sklearn.model_selection import train_test_split\n",
    "import random\n",
    "\n",
    "\n",
    "porter = PorterStemmer()\n",
    "snowball = SnowballStemmer(language='english')\n",
    "lemmatizer = WordNetLemmatizer()"
   ]
  },
  {
   "cell_type": "code",
   "execution_count": 2,
   "id": "4413c08e-7d19-4a3f-99df-8fafa37dcdf1",
   "metadata": {},
   "outputs": [
    {
     "name": "stderr",
     "output_type": "stream",
     "text": [
      "[nltk_data] Downloading package punkt to\n",
      "[nltk_data]     C:\\Users\\e.sansebastian\\AppData\\Roaming\\nltk_data...\n",
      "[nltk_data]   Package punkt is already up-to-date!\n",
      "[nltk_data] Downloading package stopwords to\n",
      "[nltk_data]     C:\\Users\\e.sansebastian\\AppData\\Roaming\\nltk_data...\n",
      "[nltk_data]   Package stopwords is already up-to-date!\n",
      "[nltk_data] Downloading package wordnet to\n",
      "[nltk_data]     C:\\Users\\e.sansebastian\\AppData\\Roaming\\nltk_data...\n",
      "[nltk_data]   Package wordnet is already up-to-date!\n",
      "[nltk_data] Downloading package tagsets to\n",
      "[nltk_data]     C:\\Users\\e.sansebastian\\AppData\\Roaming\\nltk_data...\n",
      "[nltk_data]   Package tagsets is already up-to-date!\n",
      "[nltk_data] Downloading package omw-1.4 to\n",
      "[nltk_data]     C:\\Users\\e.sansebastian\\AppData\\Roaming\\nltk_data...\n",
      "[nltk_data]   Package omw-1.4 is already up-to-date!\n",
      "[nltk_data] Downloading package words to\n",
      "[nltk_data]     C:\\Users\\e.sansebastian\\AppData\\Roaming\\nltk_data...\n",
      "[nltk_data]   Package words is already up-to-date!\n"
     ]
    }
   ],
   "source": [
    "# Importing all functions from final_project_functions.py\n",
    "from src.final_project_functions import *\n",
    "\n",
    "# Now you can use the functions in your code"
   ]
  },
  {
   "cell_type": "code",
   "execution_count": 3,
   "id": "8ccc3bcd-557b-4289-9c91-d11a47ef5e90",
   "metadata": {},
   "outputs": [
    {
     "name": "stdout",
     "output_type": "stream",
     "text": [
      "Requirement already satisfied: regex in c:\\users\\e.sansebastian\\onedrive - expondo\\ironhack\\weeks\\week_9\\final_project\\final_project\\lib\\site-packages (2023.12.25)\n",
      "Note: you may need to restart the kernel to use updated packages.\n"
     ]
    }
   ],
   "source": [
    "pip install regex"
   ]
  },
  {
   "cell_type": "code",
   "execution_count": 4,
   "id": "8539287a-81f7-4164-86de-0b936b0ce0b9",
   "metadata": {},
   "outputs": [
    {
     "data": {
      "text/html": [
       "<div>\n",
       "<style scoped>\n",
       "    .dataframe tbody tr th:only-of-type {\n",
       "        vertical-align: middle;\n",
       "    }\n",
       "\n",
       "    .dataframe tbody tr th {\n",
       "        vertical-align: top;\n",
       "    }\n",
       "\n",
       "    .dataframe thead th {\n",
       "        text-align: right;\n",
       "    }\n",
       "</style>\n",
       "<table border=\"1\" class=\"dataframe\">\n",
       "  <thead>\n",
       "    <tr style=\"text-align: right;\">\n",
       "      <th></th>\n",
       "      <th>review_title</th>\n",
       "      <th>review_rating</th>\n",
       "      <th>review_content</th>\n",
       "      <th>source</th>\n",
       "      <th>sentiment</th>\n",
       "    </tr>\n",
       "  </thead>\n",
       "  <tbody>\n",
       "    <tr>\n",
       "      <th>0</th>\n",
       "      <td>tig wig welder model s wigma pdc</td>\n",
       "      <td>5</td>\n",
       "      <td>i ordered a tig wig mma welder model s wigma p...</td>\n",
       "      <td>expondo</td>\n",
       "      <td>positive</td>\n",
       "    </tr>\n",
       "    <tr>\n",
       "      <th>1</th>\n",
       "      <td>awesome experience</td>\n",
       "      <td>5</td>\n",
       "      <td>awesome experience we had to use their custome...</td>\n",
       "      <td>expondo</td>\n",
       "      <td>positive</td>\n",
       "    </tr>\n",
       "    <tr>\n",
       "      <th>2</th>\n",
       "      <td>the product arrived on time all the</td>\n",
       "      <td>5</td>\n",
       "      <td>the product arrived on time all the assembly d...</td>\n",
       "      <td>expondo</td>\n",
       "      <td>positive</td>\n",
       "    </tr>\n",
       "    <tr>\n",
       "      <th>3</th>\n",
       "      <td>good and fast delivery</td>\n",
       "      <td>5</td>\n",
       "      <td>good and fast delivery of this amazing standin...</td>\n",
       "      <td>expondo</td>\n",
       "      <td>positive</td>\n",
       "    </tr>\n",
       "    <tr>\n",
       "      <th>4</th>\n",
       "      <td>bad invoice cross border purchase no contact t...</td>\n",
       "      <td>1</td>\n",
       "      <td>bad invoice dph on invoice shipping to slovaki...</td>\n",
       "      <td>expondo</td>\n",
       "      <td>negative</td>\n",
       "    </tr>\n",
       "  </tbody>\n",
       "</table>\n",
       "</div>"
      ],
      "text/plain": [
       "                                        review_title  review_rating  \\\n",
       "0                   tig wig welder model s wigma pdc              5   \n",
       "1                                 awesome experience              5   \n",
       "2                the product arrived on time all the              5   \n",
       "3                             good and fast delivery              5   \n",
       "4  bad invoice cross border purchase no contact t...              1   \n",
       "\n",
       "                                      review_content   source sentiment  \n",
       "0  i ordered a tig wig mma welder model s wigma p...  expondo  positive  \n",
       "1  awesome experience we had to use their custome...  expondo  positive  \n",
       "2  the product arrived on time all the assembly d...  expondo  positive  \n",
       "3  good and fast delivery of this amazing standin...  expondo  positive  \n",
       "4  bad invoice dph on invoice shipping to slovaki...  expondo  negative  "
      ]
     },
     "execution_count": 4,
     "metadata": {},
     "output_type": "execute_result"
    }
   ],
   "source": [
    "# getting the data\n",
    "\n",
    "data = pd.read_csv(\"../data/data_resampled.csv\")\n",
    "data.head()"
   ]
  },
  {
   "cell_type": "code",
   "execution_count": 5,
   "id": "631abdd3-af0e-4e2e-b84a-5a8528799f15",
   "metadata": {},
   "outputs": [],
   "source": [
    "def convert_all_to_str(df):\n",
    "    df_copy = df.copy()  # Create a copy of the DataFrame to avoid the warning\n",
    "    for column in df_copy.columns:\n",
    "        df_copy[column] = df_copy[column].astype(str)\n",
    "    return df_copy\n"
   ]
  },
  {
   "cell_type": "code",
   "execution_count": 6,
   "id": "a56c02c7-8ddd-4009-99c7-461c421aa77e",
   "metadata": {},
   "outputs": [],
   "source": [
    "data = convert_all_to_str(data)"
   ]
  },
  {
   "cell_type": "code",
   "execution_count": 7,
   "id": "f628fe93-1fc2-4122-8acc-139d482caa35",
   "metadata": {},
   "outputs": [
    {
     "data": {
      "text/plain": [
       "(15375, 5)"
      ]
     },
     "execution_count": 7,
     "metadata": {},
     "output_type": "execute_result"
    }
   ],
   "source": [
    "data.shape"
   ]
  },
  {
   "cell_type": "code",
   "execution_count": 8,
   "id": "fba29e8b-1741-4030-b56d-a3a5fd932e26",
   "metadata": {},
   "outputs": [
    {
     "name": "stdout",
     "output_type": "stream",
     "text": [
      "<class 'pandas.core.frame.DataFrame'>\n",
      "RangeIndex: 15375 entries, 0 to 15374\n",
      "Data columns (total 5 columns):\n",
      " #   Column          Non-Null Count  Dtype \n",
      "---  ------          --------------  ----- \n",
      " 0   review_title    15375 non-null  object\n",
      " 1   review_rating   15375 non-null  object\n",
      " 2   review_content  15375 non-null  object\n",
      " 3   source          15375 non-null  object\n",
      " 4   sentiment       15375 non-null  object\n",
      "dtypes: object(5)\n",
      "memory usage: 600.7+ KB\n"
     ]
    }
   ],
   "source": [
    "data.info()"
   ]
  },
  {
   "cell_type": "code",
   "execution_count": 9,
   "id": "5c913d53-9d03-41af-baef-b96ec78af250",
   "metadata": {},
   "outputs": [
    {
     "data": {
      "text/plain": [
       "0"
      ]
     },
     "execution_count": 9,
     "metadata": {},
     "output_type": "execute_result"
    }
   ],
   "source": [
    "data = data[data['review_content'].isna() == False]\n",
    "data['review_content'].isna().sum()"
   ]
  },
  {
   "cell_type": "code",
   "execution_count": 10,
   "id": "855db262-1054-41eb-ae7c-969fe13964a3",
   "metadata": {},
   "outputs": [],
   "source": [
    "import pandas as pd\n",
    "\n",
    "def count_whitespace_records(df):\n",
    "    whitespace_counts = {}\n",
    "\n",
    "    for column in df.columns:\n",
    "        # Check for white spaces in the column\n",
    "        empty_values = df[column].eq('') | df[column].eq(' ') | df[column].eq('  ') | df[column].str.isspace()\n",
    "\n",
    "        # Count the number of records with white spaces\n",
    "        whitespace_count = empty_values.sum()\n",
    "\n",
    "        # Add the column and count to the dictionary\n",
    "        whitespace_counts[column] = whitespace_count\n",
    "\n",
    "    return whitespace_counts"
   ]
  },
  {
   "cell_type": "code",
   "execution_count": 11,
   "id": "2aa48a2a-67c1-4ee2-89e4-94346469529a",
   "metadata": {},
   "outputs": [
    {
     "name": "stdout",
     "output_type": "stream",
     "text": [
      "{'review_title': 0, 'review_rating': 0, 'review_content': 0, 'source': 0, 'sentiment': 0}\n"
     ]
    }
   ],
   "source": [
    "# Example usage:\n",
    "# Assuming 'data' is your DataFrame\n",
    "result = count_whitespace_records(data)\n",
    "print(result)"
   ]
  },
  {
   "cell_type": "code",
   "execution_count": 12,
   "id": "72ff4817-0962-4c42-8beb-f95d96e36839",
   "metadata": {},
   "outputs": [
    {
     "data": {
      "text/plain": [
       "review_title      object\n",
       "review_rating     object\n",
       "review_content    object\n",
       "source            object\n",
       "sentiment         object\n",
       "dtype: object"
      ]
     },
     "execution_count": 12,
     "metadata": {},
     "output_type": "execute_result"
    }
   ],
   "source": [
    "data.dtypes"
   ]
  },
  {
   "cell_type": "code",
   "execution_count": 16,
   "id": "4e8ef6ec-ee61-41eb-878f-e2f51f883d63",
   "metadata": {},
   "outputs": [],
   "source": [
    "data[\"review_content\"] = data[\"review_content\"].apply(lambda x: clean_up(x))"
   ]
  },
  {
   "cell_type": "code",
   "execution_count": 22,
   "id": "c8b62218-cc88-4d02-8a07-065630247066",
   "metadata": {},
   "outputs": [
    {
     "data": {
      "application/vnd.jupyter.widget-view+json": {
       "model_id": "",
       "version_major": 2,
       "version_minor": 0
      },
      "text/plain": [
       "Processing:   0%|          | 0/15375 [00:00<?, ?it/s]"
      ]
     },
     "metadata": {},
     "output_type": "display_data"
    }
   ],
   "source": [
    "from tqdm.notebook import tqdm\n",
    "\n",
    "tqdm.pandas(desc=\"Processing\", leave=False)\n",
    "data[\"review_processed\"] = data[\"review_content\"].progress_apply(lambda x: remove_stopwords(tokenize(x)))"
   ]
  },
  {
   "cell_type": "code",
   "execution_count": 23,
   "id": "1093f0e0-6c55-46c6-a3b6-9eedef1b9cba",
   "metadata": {},
   "outputs": [
    {
     "data": {
      "text/html": [
       "<div>\n",
       "<style scoped>\n",
       "    .dataframe tbody tr th:only-of-type {\n",
       "        vertical-align: middle;\n",
       "    }\n",
       "\n",
       "    .dataframe tbody tr th {\n",
       "        vertical-align: top;\n",
       "    }\n",
       "\n",
       "    .dataframe thead th {\n",
       "        text-align: right;\n",
       "    }\n",
       "</style>\n",
       "<table border=\"1\" class=\"dataframe\">\n",
       "  <thead>\n",
       "    <tr style=\"text-align: right;\">\n",
       "      <th></th>\n",
       "      <th>review_title</th>\n",
       "      <th>review_rating</th>\n",
       "      <th>review_content</th>\n",
       "      <th>source</th>\n",
       "      <th>sentiment</th>\n",
       "      <th>review_processed</th>\n",
       "    </tr>\n",
       "  </thead>\n",
       "  <tbody>\n",
       "    <tr>\n",
       "      <th>0</th>\n",
       "      <td>tig wig welder model s wigma pdc</td>\n",
       "      <td>5</td>\n",
       "      <td>i ordered a tig wig mma welder model s wigma p...</td>\n",
       "      <td>expondo</td>\n",
       "      <td>positive</td>\n",
       "      <td>[ordered, tig, wig, mma, welder, model, wigma,...</td>\n",
       "    </tr>\n",
       "    <tr>\n",
       "      <th>1</th>\n",
       "      <td>awesome experience</td>\n",
       "      <td>5</td>\n",
       "      <td>awesome experience we had to use their custome...</td>\n",
       "      <td>expondo</td>\n",
       "      <td>positive</td>\n",
       "      <td>[awesome, experience, use, customer, support, ...</td>\n",
       "    </tr>\n",
       "    <tr>\n",
       "      <th>2</th>\n",
       "      <td>the product arrived on time all the</td>\n",
       "      <td>5</td>\n",
       "      <td>the product arrived on time all the assembly d...</td>\n",
       "      <td>expondo</td>\n",
       "      <td>positive</td>\n",
       "      <td>[product, arrived, time, assembly, details, pe...</td>\n",
       "    </tr>\n",
       "    <tr>\n",
       "      <th>3</th>\n",
       "      <td>good and fast delivery</td>\n",
       "      <td>5</td>\n",
       "      <td>good and fast delivery of this amazing standin...</td>\n",
       "      <td>expondo</td>\n",
       "      <td>positive</td>\n",
       "      <td>[good, fast, delivery, amazing, standing, desk...</td>\n",
       "    </tr>\n",
       "    <tr>\n",
       "      <th>4</th>\n",
       "      <td>bad invoice cross border purchase no contact t...</td>\n",
       "      <td>1</td>\n",
       "      <td>bad invoice dph on invoice shipping to slovaki...</td>\n",
       "      <td>expondo</td>\n",
       "      <td>negative</td>\n",
       "      <td>[bad, invoice, dph, invoice, shipping, slovaki...</td>\n",
       "    </tr>\n",
       "  </tbody>\n",
       "</table>\n",
       "</div>"
      ],
      "text/plain": [
       "                                        review_title review_rating  \\\n",
       "0                   tig wig welder model s wigma pdc             5   \n",
       "1                                 awesome experience             5   \n",
       "2                the product arrived on time all the             5   \n",
       "3                             good and fast delivery             5   \n",
       "4  bad invoice cross border purchase no contact t...             1   \n",
       "\n",
       "                                      review_content   source sentiment  \\\n",
       "0  i ordered a tig wig mma welder model s wigma p...  expondo  positive   \n",
       "1  awesome experience we had to use their custome...  expondo  positive   \n",
       "2  the product arrived on time all the assembly d...  expondo  positive   \n",
       "3  good and fast delivery of this amazing standin...  expondo  positive   \n",
       "4  bad invoice dph on invoice shipping to slovaki...  expondo  negative   \n",
       "\n",
       "                                    review_processed  \n",
       "0  [ordered, tig, wig, mma, welder, model, wigma,...  \n",
       "1  [awesome, experience, use, customer, support, ...  \n",
       "2  [product, arrived, time, assembly, details, pe...  \n",
       "3  [good, fast, delivery, amazing, standing, desk...  \n",
       "4  [bad, invoice, dph, invoice, shipping, slovaki...  "
      ]
     },
     "execution_count": 23,
     "metadata": {},
     "output_type": "execute_result"
    }
   ],
   "source": [
    "data.head()"
   ]
  },
  {
   "cell_type": "code",
   "execution_count": 24,
   "id": "c09886e9-4006-4663-aadc-b58f0a1f664c",
   "metadata": {},
   "outputs": [],
   "source": [
    "def stem_words(words_list):\n",
    "    snow_stemmer = SnowballStemmer(language='english')\n",
    "    stemmed_list = [snow_stemmer.stem(word) if snow_stemmer.stem(word) in words.words() else word for word in words_list]\n",
    "    return stemmed_list\n",
    "\n",
    "tqdm.pandas(desc=\"Lemmatization\", leave=False)\n",
    "\n",
    "def lemmatize_words(words_list):\n",
    "    lem = WordNetLemmatizer()\n",
    "    lemmatized_list = [lem.lemmatize(word) for word in words_list]\n",
    "    return lemmatized_list"
   ]
  },
  {
   "cell_type": "code",
   "execution_count": 26,
   "id": "9ccdec14-4806-4625-9f2d-2224752d7848",
   "metadata": {},
   "outputs": [
    {
     "data": {
      "application/vnd.jupyter.widget-view+json": {
       "model_id": "",
       "version_major": 2,
       "version_minor": 0
      },
      "text/plain": [
       "Lemmatization:   0%|          | 0/15375 [00:00<?, ?it/s]"
      ]
     },
     "metadata": {},
     "output_type": "display_data"
    }
   ],
   "source": [
    "data[\"review_processed\"] = data[\"review_processed\"].progress_apply(stem_words)"
   ]
  },
  {
   "cell_type": "code",
   "execution_count": 27,
   "id": "91d8b314-204a-433a-b403-045b383a7872",
   "metadata": {},
   "outputs": [
    {
     "data": {
      "application/vnd.jupyter.widget-view+json": {
       "model_id": "",
       "version_major": 2,
       "version_minor": 0
      },
      "text/plain": [
       "Lemmatization:   0%|          | 0/15375 [00:00<?, ?it/s]"
      ]
     },
     "metadata": {},
     "output_type": "display_data"
    }
   ],
   "source": [
    "data[\"review_processed\"] = data[\"review_processed\"].progress_apply(lemmatize_words)"
   ]
  },
  {
   "cell_type": "code",
   "execution_count": 33,
   "id": "f0a6901f-5894-4410-ac75-bf5f4ad3b1d3",
   "metadata": {},
   "outputs": [
    {
     "data": {
      "text/html": [
       "<div>\n",
       "<style scoped>\n",
       "    .dataframe tbody tr th:only-of-type {\n",
       "        vertical-align: middle;\n",
       "    }\n",
       "\n",
       "    .dataframe tbody tr th {\n",
       "        vertical-align: top;\n",
       "    }\n",
       "\n",
       "    .dataframe thead th {\n",
       "        text-align: right;\n",
       "    }\n",
       "</style>\n",
       "<table border=\"1\" class=\"dataframe\">\n",
       "  <thead>\n",
       "    <tr style=\"text-align: right;\">\n",
       "      <th></th>\n",
       "      <th>review_title</th>\n",
       "      <th>review_rating</th>\n",
       "      <th>review_content</th>\n",
       "      <th>source</th>\n",
       "      <th>sentiment</th>\n",
       "      <th>review_processed</th>\n",
       "    </tr>\n",
       "  </thead>\n",
       "  <tbody>\n",
       "    <tr>\n",
       "      <th>0</th>\n",
       "      <td>tig wig welder model s wigma pdc</td>\n",
       "      <td>5</td>\n",
       "      <td>i ordered a tig wig mma welder model s wigma p...</td>\n",
       "      <td>expondo</td>\n",
       "      <td>positive</td>\n",
       "      <td>[order, tig, wig, mma, welder, model, wigma, p...</td>\n",
       "    </tr>\n",
       "    <tr>\n",
       "      <th>1</th>\n",
       "      <td>awesome experience</td>\n",
       "      <td>5</td>\n",
       "      <td>awesome experience we had to use their custome...</td>\n",
       "      <td>expondo</td>\n",
       "      <td>positive</td>\n",
       "      <td>[awesome, experience, use, custom, support, fi...</td>\n",
       "    </tr>\n",
       "    <tr>\n",
       "      <th>2</th>\n",
       "      <td>the product arrived on time all the</td>\n",
       "      <td>5</td>\n",
       "      <td>the product arrived on time all the assembly d...</td>\n",
       "      <td>expondo</td>\n",
       "      <td>positive</td>\n",
       "      <td>[product, arrived, time, assembly, detail, per...</td>\n",
       "    </tr>\n",
       "    <tr>\n",
       "      <th>3</th>\n",
       "      <td>good and fast delivery</td>\n",
       "      <td>5</td>\n",
       "      <td>good and fast delivery of this amazing standin...</td>\n",
       "      <td>expondo</td>\n",
       "      <td>positive</td>\n",
       "      <td>[good, fast, delivery, amazing, stand, desk, s...</td>\n",
       "    </tr>\n",
       "    <tr>\n",
       "      <th>4</th>\n",
       "      <td>bad invoice cross border purchase no contact t...</td>\n",
       "      <td>1</td>\n",
       "      <td>bad invoice dph on invoice shipping to slovaki...</td>\n",
       "      <td>expondo</td>\n",
       "      <td>negative</td>\n",
       "      <td>[bad, invoice, dph, invoice, ship, slovakia, c...</td>\n",
       "    </tr>\n",
       "  </tbody>\n",
       "</table>\n",
       "</div>"
      ],
      "text/plain": [
       "                                        review_title review_rating  \\\n",
       "0                   tig wig welder model s wigma pdc             5   \n",
       "1                                 awesome experience             5   \n",
       "2                the product arrived on time all the             5   \n",
       "3                             good and fast delivery             5   \n",
       "4  bad invoice cross border purchase no contact t...             1   \n",
       "\n",
       "                                      review_content   source sentiment  \\\n",
       "0  i ordered a tig wig mma welder model s wigma p...  expondo  positive   \n",
       "1  awesome experience we had to use their custome...  expondo  positive   \n",
       "2  the product arrived on time all the assembly d...  expondo  positive   \n",
       "3  good and fast delivery of this amazing standin...  expondo  positive   \n",
       "4  bad invoice dph on invoice shipping to slovaki...  expondo  negative   \n",
       "\n",
       "                                    review_processed  \n",
       "0  [order, tig, wig, mma, welder, model, wigma, p...  \n",
       "1  [awesome, experience, use, custom, support, fi...  \n",
       "2  [product, arrived, time, assembly, detail, per...  \n",
       "3  [good, fast, delivery, amazing, stand, desk, s...  \n",
       "4  [bad, invoice, dph, invoice, ship, slovakia, c...  "
      ]
     },
     "execution_count": 33,
     "metadata": {},
     "output_type": "execute_result"
    }
   ],
   "source": [
    "data.head()"
   ]
  },
  {
   "cell_type": "markdown",
   "id": "3bd7bf8d-e738-41b1-aa3d-e3a7081df1a5",
   "metadata": {},
   "source": [
    "### Creating Bag of Words"
   ]
  },
  {
   "cell_type": "code",
   "execution_count": 31,
   "id": "19f1d819-fa7e-459d-8aba-54c188966eac",
   "metadata": {},
   "outputs": [
    {
     "name": "stdout",
     "output_type": "stream",
     "text": [
      "['order', 'tig', 'wig', 'mma', 'welder', 'model', 'wigma', 'pdc', 'shipment', 'austria', 'quick', 'track', 'delivery', 'gls', 'perfect', 'weld', 'devicefirst', 'weld', 'test', 'stick', 'electrode', 'mma', 'fine', 'ignition', 'arc', 'stable', 'measured', 'current', 'fluke', 'clamp', 'meter', 'check', 'deviation', 'amper', 'measured', 'current', 'almost', 'exact', 'adjust', 'one', 'lower', 'current', 'like', 'amper', 'measured', 'current', 'slight', 'lower', 'amp', 'think']\n"
     ]
    }
   ],
   "source": [
    "# flattening the processed column in order to get a list of all the words in the column\n",
    "\n",
    "all_words = [word for word in data['review_processed'] for word in word]\n",
    "print(all_words[:50])\n"
   ]
  },
  {
   "cell_type": "code",
   "execution_count": 34,
   "id": "5d8cb2c9-70b0-4377-9d08-b5e36e2555db",
   "metadata": {},
   "outputs": [
    {
     "data": {
      "text/plain": [
       "FreqDist({'service': 6324, 'order': 5778, 'custom': 4994, 'day': 4789, 'delivery': 4683, 'time': 4247, 'use': 3879, 'get': 3678, 'would': 3608, 'item': 3134, ...})"
      ]
     },
     "execution_count": 34,
     "metadata": {},
     "output_type": "execute_result"
    }
   ],
   "source": [
    "fdist = FreqDist(all_words)\n",
    "fdist"
   ]
  },
  {
   "cell_type": "code",
   "execution_count": 35,
   "id": "e9a09ab5-2cab-406c-959e-137ff76d99cb",
   "metadata": {},
   "outputs": [],
   "source": [
    "# getting the keys from the frequency dictionary (the words) from the top 5000 most frequent words that appear on tweets\n",
    "\n",
    "word_features = list(fdist.keys())[:5000]"
   ]
  },
  {
   "cell_type": "code",
   "execution_count": 36,
   "id": "41507a44-0060-4901-9804-5c0a5051421c",
   "metadata": {},
   "outputs": [
    {
     "data": {
      "text/plain": [
       "['order',\n",
       " 'tig',\n",
       " 'wig',\n",
       " 'mma',\n",
       " 'welder',\n",
       " 'model',\n",
       " 'wigma',\n",
       " 'pdc',\n",
       " 'shipment',\n",
       " 'austria',\n",
       " 'quick',\n",
       " 'track',\n",
       " 'delivery',\n",
       " 'gls',\n",
       " 'perfect',\n",
       " 'weld',\n",
       " 'devicefirst',\n",
       " 'test',\n",
       " 'stick',\n",
       " 'electrode',\n",
       " 'fine',\n",
       " 'ignition',\n",
       " 'arc',\n",
       " 'stable',\n",
       " 'measured',\n",
       " 'current',\n",
       " 'fluke',\n",
       " 'clamp',\n",
       " 'meter',\n",
       " 'check',\n",
       " 'deviation',\n",
       " 'amper',\n",
       " 'almost',\n",
       " 'exact',\n",
       " 'adjust',\n",
       " 'one',\n",
       " 'lower',\n",
       " 'like',\n",
       " 'slight',\n",
       " 'amp',\n",
       " 'think',\n",
       " 'pretty',\n",
       " 'good',\n",
       " 'nonprofession',\n",
       " 'device',\n",
       " 'far',\n",
       " 'plan',\n",
       " 'near',\n",
       " 'future',\n",
       " 'custom']"
      ]
     },
     "metadata": {},
     "output_type": "display_data"
    }
   ],
   "source": [
    "display(word_features[:50])"
   ]
  },
  {
   "cell_type": "code",
   "execution_count": 37,
   "id": "e510c64b-6ba2-4d3d-bcbe-4a68ef4e93c6",
   "metadata": {},
   "outputs": [],
   "source": [
    "def find_features(document, word_features):\n",
    "    words = set(document)\n",
    "    features = {}\n",
    "    for w in word_features:\n",
    "        features[w] = (w in words)\n",
    "\n",
    "    return features"
   ]
  },
  {
   "cell_type": "code",
   "execution_count": 38,
   "id": "aba5e358-ded5-4006-b51d-03afd7d5a4e9",
   "metadata": {},
   "outputs": [],
   "source": [
    "# applying the function\n",
    "\n",
    "featuresets = [(find_features(review, word_features), sentiment) for review, sentiment in zip(data['review_processed'], data['sentiment'])]"
   ]
  },
  {
   "cell_type": "code",
   "execution_count": 39,
   "id": "77a0b90d-627e-4b1f-ae59-ab7f6ecf7472",
   "metadata": {},
   "outputs": [
    {
     "data": {
      "text/html": [
       "<div>\n",
       "<style scoped>\n",
       "    .dataframe tbody tr th:only-of-type {\n",
       "        vertical-align: middle;\n",
       "    }\n",
       "\n",
       "    .dataframe tbody tr th {\n",
       "        vertical-align: top;\n",
       "    }\n",
       "\n",
       "    .dataframe thead th {\n",
       "        text-align: right;\n",
       "    }\n",
       "</style>\n",
       "<table border=\"1\" class=\"dataframe\">\n",
       "  <thead>\n",
       "    <tr style=\"text-align: right;\">\n",
       "      <th></th>\n",
       "      <th>review_title</th>\n",
       "      <th>review_rating</th>\n",
       "      <th>review_content</th>\n",
       "      <th>source</th>\n",
       "      <th>sentiment</th>\n",
       "      <th>review_processed</th>\n",
       "    </tr>\n",
       "  </thead>\n",
       "  <tbody>\n",
       "    <tr>\n",
       "      <th>15370</th>\n",
       "      <td>crappy product not fit for purpose</td>\n",
       "      <td>3</td>\n",
       "      <td>factory tightened bolts couldn t untighten</td>\n",
       "      <td>mowdirect_neutral</td>\n",
       "      <td>neutral</td>\n",
       "      <td>[factory, tighten, bolt, untighten]</td>\n",
       "    </tr>\n",
       "    <tr>\n",
       "      <th>15371</th>\n",
       "      <td>beware</td>\n",
       "      <td>3</td>\n",
       "      <td>great place to buy products if dealing directl...</td>\n",
       "      <td>amazon_neutral</td>\n",
       "      <td>neutral</td>\n",
       "      <td>[great, place, buy, product, deal, direct, ama...</td>\n",
       "    </tr>\n",
       "    <tr>\n",
       "      <th>15372</th>\n",
       "      <td>product is fine and delivered in a</td>\n",
       "      <td>3</td>\n",
       "      <td>product is fine and delivered in a timely fash...</td>\n",
       "      <td>mowdirect_neutral</td>\n",
       "      <td>neutral</td>\n",
       "      <td>[product, fine, delivered, time, fashion, howe...</td>\n",
       "    </tr>\n",
       "    <tr>\n",
       "      <th>15373</th>\n",
       "      <td>a very professional supplier</td>\n",
       "      <td>3</td>\n",
       "      <td>i found the crossover to a professional suppli...</td>\n",
       "      <td>trustpilot_mix_data</td>\n",
       "      <td>neutral</td>\n",
       "      <td>[found, crossover, profession, supplier, inter...</td>\n",
       "    </tr>\n",
       "    <tr>\n",
       "      <th>15374</th>\n",
       "      <td>cheap prices</td>\n",
       "      <td>3</td>\n",
       "      <td>cheap pricesshipping feesglobal marketing company</td>\n",
       "      <td>amazon_neutral</td>\n",
       "      <td>neutral</td>\n",
       "      <td>[cheap, pricesshipping, feesglobal, market, co...</td>\n",
       "    </tr>\n",
       "  </tbody>\n",
       "</table>\n",
       "</div>"
      ],
      "text/plain": [
       "                             review_title review_rating  \\\n",
       "15370  crappy product not fit for purpose             3   \n",
       "15371                              beware             3   \n",
       "15372  product is fine and delivered in a             3   \n",
       "15373        a very professional supplier             3   \n",
       "15374                        cheap prices             3   \n",
       "\n",
       "                                          review_content               source  \\\n",
       "15370         factory tightened bolts couldn t untighten    mowdirect_neutral   \n",
       "15371  great place to buy products if dealing directl...       amazon_neutral   \n",
       "15372  product is fine and delivered in a timely fash...    mowdirect_neutral   \n",
       "15373  i found the crossover to a professional suppli...  trustpilot_mix_data   \n",
       "15374  cheap pricesshipping feesglobal marketing company       amazon_neutral   \n",
       "\n",
       "      sentiment                                   review_processed  \n",
       "15370   neutral                [factory, tighten, bolt, untighten]  \n",
       "15371   neutral  [great, place, buy, product, deal, direct, ama...  \n",
       "15372   neutral  [product, fine, delivered, time, fashion, howe...  \n",
       "15373   neutral  [found, crossover, profession, supplier, inter...  \n",
       "15374   neutral  [cheap, pricesshipping, feesglobal, market, co...  "
      ]
     },
     "execution_count": 39,
     "metadata": {},
     "output_type": "execute_result"
    }
   ],
   "source": [
    "data.tail()"
   ]
  },
  {
   "cell_type": "code",
   "execution_count": 40,
   "id": "4573352d-728f-4918-bf28-9cae64f0d6cd",
   "metadata": {},
   "outputs": [],
   "source": [
    "# since when I selected the 10000 rows that were positive and 10000 negative and concatenated them, I should shuffle it otherwise my train/test split\n",
    "# might only have one type of tweet\n",
    "\n",
    "random.shuffle(featuresets)"
   ]
  },
  {
   "cell_type": "code",
   "execution_count": 41,
   "id": "963a3ace-2a51-4a8b-8787-6153a9d95685",
   "metadata": {},
   "outputs": [],
   "source": [
    "# train/test split\n",
    "\n",
    "train_set, test_set = train_test_split(featuresets, train_size=0.8, random_state=42)"
   ]
  },
  {
   "cell_type": "code",
   "execution_count": 42,
   "id": "7479581e-283f-4207-b27a-5c46e7c28d04",
   "metadata": {},
   "outputs": [],
   "source": [
    "import pickle\n",
    "import nltk\n",
    "from nltk.classify import NaiveBayesClassifier\n",
    "from nltk.tokenize import word_tokenize\n",
    "\n",
    "# Assuming you have already defined your training data in the 'train_set' variable\n",
    "\n",
    "# Training the model\n",
    "classifier = nltk.NaiveBayesClassifier.train(train_set)\n",
    "\n",
    "# Saving the trained classifier to a pickle file\n",
    "with open('naive_bayes_classifier.pickle_stemm', 'wb') as file:\n",
    "    pickle.dump(classifier, file)\n",
    "\n",
    "# Optionally, you can also save the word features used in the training data\n",
    "# Assuming 'word_features' is the list of features used in the training\n",
    "with open('word_features.pickle_stemm', 'wb') as file:\n",
    "    pickle.dump(word_features, file)"
   ]
  },
  {
   "cell_type": "code",
   "execution_count": 43,
   "id": "73cca41c-f326-44c8-bf6f-8a0c2224dc39",
   "metadata": {},
   "outputs": [
    {
     "name": "stdout",
     "output_type": "stream",
     "text": [
      "Most Informative Features\n",
      "                   prime = True           neutra : positi =    242.6 : 1.0\n",
      "                  amazon = True           neutra : positi =    140.6 : 1.0\n",
      "                 premier = True           negati : positi =     71.9 : 1.0\n",
      "                   grass = True           neutra : positi =     66.0 : 1.0\n",
      "                    rude = True           negati : positi =     60.8 : 1.0\n",
      "               unhelpful = True           negati : positi =     48.3 : 1.0\n",
      "                  faulty = True           negati : positi =     46.3 : 1.0\n",
      "                 premium = True           negati : positi =     39.7 : 1.0\n",
      "               warehouse = True           negati : positi =     37.8 : 1.0\n",
      "                  pocket = True           negati : positi =     35.1 : 1.0\n"
     ]
    }
   ],
   "source": [
    "classifier.show_most_informative_features()"
   ]
  },
  {
   "cell_type": "code",
   "execution_count": 44,
   "id": "a385bdee-189b-407c-94cf-e367bd780f22",
   "metadata": {},
   "outputs": [
    {
     "name": "stdout",
     "output_type": "stream",
     "text": [
      "Classifier accuracy percent: 68.7479674796748\n"
     ]
    }
   ],
   "source": [
    "print(\"Classifier accuracy percent:\",(nltk.classify.accuracy(classifier, test_set))*100)"
   ]
  },
  {
   "cell_type": "code",
   "execution_count": null,
   "id": "f5a23e84-a0c0-4d94-8c2b-f288ec2d8b53",
   "metadata": {},
   "outputs": [],
   "source": []
  }
 ],
 "metadata": {
  "kernelspec": {
   "display_name": "final_project",
   "language": "python",
   "name": "final_project"
  },
  "language_info": {
   "codemirror_mode": {
    "name": "ipython",
    "version": 3
   },
   "file_extension": ".py",
   "mimetype": "text/x-python",
   "name": "python",
   "nbconvert_exporter": "python",
   "pygments_lexer": "ipython3",
   "version": "3.11.5"
  }
 },
 "nbformat": 4,
 "nbformat_minor": 5
}
