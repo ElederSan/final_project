{
 "cells": [
  {
   "cell_type": "code",
   "execution_count": 1,
   "id": "7daaa59f-69b8-4614-8aba-ba80c5a72f17",
   "metadata": {},
   "outputs": [],
   "source": [
    "import pandas as pd\n",
    "\n",
    "# Assuming your data is stored in a CSV file\n",
    "data = pd.read_csv('./data/expondo_reviews_since_2023.csv')\n",
    "\n",
    "# Extract relevant columns\n",
    "delivery_data = data[['review_rating', 'review_content']]"
   ]
  },
  {
   "cell_type": "code",
   "execution_count": 6,
   "id": "a6564592-afe8-4e12-9dab-39d21b292d41",
   "metadata": {},
   "outputs": [
    {
     "data": {
      "text/html": [
       "<div>\n",
       "<style scoped>\n",
       "    .dataframe tbody tr th:only-of-type {\n",
       "        vertical-align: middle;\n",
       "    }\n",
       "\n",
       "    .dataframe tbody tr th {\n",
       "        vertical-align: top;\n",
       "    }\n",
       "\n",
       "    .dataframe thead th {\n",
       "        text-align: right;\n",
       "    }\n",
       "</style>\n",
       "<table border=\"1\" class=\"dataframe\">\n",
       "  <thead>\n",
       "    <tr style=\"text-align: right;\">\n",
       "      <th></th>\n",
       "      <th>review_id</th>\n",
       "      <th>review_title</th>\n",
       "      <th>review_date</th>\n",
       "      <th>review_rating</th>\n",
       "      <th>review_content</th>\n",
       "      <th>review_location</th>\n",
       "    </tr>\n",
       "  </thead>\n",
       "  <tbody>\n",
       "    <tr>\n",
       "      <th>0</th>\n",
       "      <td>65aed6b600af4883acaf8caf</td>\n",
       "      <td>TIG (WIG) welder, model S-WIGMA 200PDC</td>\n",
       "      <td>2024-01-22</td>\n",
       "      <td>5</td>\n",
       "      <td>I ordered a TIG (WIG) / MMA welder, model S-WI...</td>\n",
       "      <td>AT</td>\n",
       "    </tr>\n",
       "    <tr>\n",
       "      <th>1</th>\n",
       "      <td>65a68b82126d92f1f9a4d330</td>\n",
       "      <td>Awesome experience</td>\n",
       "      <td>2024-01-15</td>\n",
       "      <td>5</td>\n",
       "      <td>Awesome experience. We had to use their custom...</td>\n",
       "      <td>BG</td>\n",
       "    </tr>\n",
       "    <tr>\n",
       "      <th>2</th>\n",
       "      <td>65a3c4680208eaa47b381c4d</td>\n",
       "      <td>The product arrived on time all the…</td>\n",
       "      <td>2024-01-12</td>\n",
       "      <td>5</td>\n",
       "      <td>The product arrived on time all the assembly d...</td>\n",
       "      <td>IE</td>\n",
       "    </tr>\n",
       "    <tr>\n",
       "      <th>3</th>\n",
       "      <td>659fcc8b2e14391e7d9d5597</td>\n",
       "      <td>Good and fast delivery</td>\n",
       "      <td>2023-12-27</td>\n",
       "      <td>5</td>\n",
       "      <td>Good and fast delivery of this amazing standin...</td>\n",
       "      <td>CZ</td>\n",
       "    </tr>\n",
       "    <tr>\n",
       "      <th>4</th>\n",
       "      <td>659e780423cb48162da0eabb</td>\n",
       "      <td>Bad invoice cross-border purchase - no contact...</td>\n",
       "      <td>2023-12-26</td>\n",
       "      <td>1</td>\n",
       "      <td>Bad invoice - DPH on invoice - shipping to slo...</td>\n",
       "      <td>SK</td>\n",
       "    </tr>\n",
       "  </tbody>\n",
       "</table>\n",
       "</div>"
      ],
      "text/plain": [
       "                  review_id  \\\n",
       "0  65aed6b600af4883acaf8caf   \n",
       "1  65a68b82126d92f1f9a4d330   \n",
       "2  65a3c4680208eaa47b381c4d   \n",
       "3  659fcc8b2e14391e7d9d5597   \n",
       "4  659e780423cb48162da0eabb   \n",
       "\n",
       "                                        review_title review_date  \\\n",
       "0             TIG (WIG) welder, model S-WIGMA 200PDC  2024-01-22   \n",
       "1                                 Awesome experience  2024-01-15   \n",
       "2               The product arrived on time all the…  2024-01-12   \n",
       "3                             Good and fast delivery  2023-12-27   \n",
       "4  Bad invoice cross-border purchase - no contact...  2023-12-26   \n",
       "\n",
       "   review_rating                                     review_content  \\\n",
       "0              5  I ordered a TIG (WIG) / MMA welder, model S-WI...   \n",
       "1              5  Awesome experience. We had to use their custom...   \n",
       "2              5  The product arrived on time all the assembly d...   \n",
       "3              5  Good and fast delivery of this amazing standin...   \n",
       "4              1  Bad invoice - DPH on invoice - shipping to slo...   \n",
       "\n",
       "  review_location  \n",
       "0              AT  \n",
       "1              BG  \n",
       "2              IE  \n",
       "3              CZ  \n",
       "4              SK  "
      ]
     },
     "execution_count": 6,
     "metadata": {},
     "output_type": "execute_result"
    }
   ],
   "source": [
    "data.head()"
   ]
  },
  {
   "cell_type": "markdown",
   "id": "396b399e-d2ef-4b3d-b169-ee9a89ef840f",
   "metadata": {},
   "source": [
    "## Hypothesis testing"
   ]
  },
  {
   "cell_type": "markdown",
   "id": "b71e9830-b6f1-4fc8-9253-c91e310d2049",
   "metadata": {},
   "source": [
    "We in order to know the impact of the word delivery on the type of rating (positive vs. negative) we are going to run a hypothesis testing.\n",
    "\n",
    "To run such hypothesis testing we are going to be using the Trustpilot reviews from my company Expondo since the beginning of 2023.\n",
    "\n",
    "https://www.trustpilot.com/review/expondo.com?sort=recency \n",
    "\n",
    "Since we plan to compare if the mean of one of the groups below is bigger than the other, we will run a one sided t-test statistic.\n",
    "\n",
    "\n",
    "### Hypotheses:\n",
    "\n",
    "**Null Hypothesis (H0):**\n",
    "\n",
    "H0 < H1\n",
    "\n",
    "The mean review rating for reviews with mentions of \"delivery\" is less than or equal to the mean rating for reviews without mentions of \"delivery\".\n",
    "\n",
    "**Alternative Hypothesis (H1):**\n",
    "\n",
    "The mean review rating for reviews with mentions of \"delivery\" is significantly greater than the mean rating for reviews without mentions of \"delivery\".\n"
   ]
  },
  {
   "cell_type": "code",
   "execution_count": 2,
   "id": "7425ac5d-4dc4-47f8-938b-ec14bd4e6892",
   "metadata": {},
   "outputs": [
    {
     "data": {
      "text/html": [
       "<div>\n",
       "<style scoped>\n",
       "    .dataframe tbody tr th:only-of-type {\n",
       "        vertical-align: middle;\n",
       "    }\n",
       "\n",
       "    .dataframe tbody tr th {\n",
       "        vertical-align: top;\n",
       "    }\n",
       "\n",
       "    .dataframe thead th {\n",
       "        text-align: right;\n",
       "    }\n",
       "</style>\n",
       "<table border=\"1\" class=\"dataframe\">\n",
       "  <thead>\n",
       "    <tr style=\"text-align: right;\">\n",
       "      <th></th>\n",
       "      <th>review_rating</th>\n",
       "      <th>review_content</th>\n",
       "    </tr>\n",
       "  </thead>\n",
       "  <tbody>\n",
       "    <tr>\n",
       "      <th>0</th>\n",
       "      <td>5</td>\n",
       "      <td>I ordered a TIG (WIG) / MMA welder, model S-WI...</td>\n",
       "    </tr>\n",
       "    <tr>\n",
       "      <th>1</th>\n",
       "      <td>5</td>\n",
       "      <td>Awesome experience. We had to use their custom...</td>\n",
       "    </tr>\n",
       "    <tr>\n",
       "      <th>2</th>\n",
       "      <td>5</td>\n",
       "      <td>The product arrived on time all the assembly d...</td>\n",
       "    </tr>\n",
       "    <tr>\n",
       "      <th>3</th>\n",
       "      <td>5</td>\n",
       "      <td>Good and fast delivery of this amazing standin...</td>\n",
       "    </tr>\n",
       "    <tr>\n",
       "      <th>4</th>\n",
       "      <td>1</td>\n",
       "      <td>Bad invoice - DPH on invoice - shipping to slo...</td>\n",
       "    </tr>\n",
       "  </tbody>\n",
       "</table>\n",
       "</div>"
      ],
      "text/plain": [
       "   review_rating                                     review_content\n",
       "0              5  I ordered a TIG (WIG) / MMA welder, model S-WI...\n",
       "1              5  Awesome experience. We had to use their custom...\n",
       "2              5  The product arrived on time all the assembly d...\n",
       "3              5  Good and fast delivery of this amazing standin...\n",
       "4              1  Bad invoice - DPH on invoice - shipping to slo..."
      ]
     },
     "execution_count": 2,
     "metadata": {},
     "output_type": "execute_result"
    }
   ],
   "source": [
    "delivery_data.head()"
   ]
  },
  {
   "cell_type": "code",
   "execution_count": 3,
   "id": "b33a37f7-958c-44ba-ac9f-4c2463767449",
   "metadata": {},
   "outputs": [
    {
     "name": "stderr",
     "output_type": "stream",
     "text": [
      "C:\\Users\\e.sansebastian\\AppData\\Local\\Temp\\ipykernel_600\\1594382891.py:2: SettingWithCopyWarning: \n",
      "A value is trying to be set on a copy of a slice from a DataFrame.\n",
      "Try using .loc[row_indexer,col_indexer] = value instead\n",
      "\n",
      "See the caveats in the documentation: https://pandas.pydata.org/pandas-docs/stable/user_guide/indexing.html#returning-a-view-versus-a-copy\n",
      "  delivery_data['delivery_mention'] = delivery_data['review_content'].apply(lambda x: 1 if 'delivery' in str(x).lower() else 0)\n"
     ]
    }
   ],
   "source": [
    "# Create a new column indicating if fast delivery is mentioned\n",
    "delivery_data['delivery_mention'] = delivery_data['review_content'].apply(lambda x: 1 if 'delivery' in str(x).lower() else 0)"
   ]
  },
  {
   "cell_type": "code",
   "execution_count": 4,
   "id": "e5b1c986-0069-4353-8f7d-2bc7a4e3c701",
   "metadata": {},
   "outputs": [
    {
     "data": {
      "text/plain": [
       "delivery_mention\n",
       "0    173\n",
       "1     67\n",
       "Name: count, dtype: int64"
      ]
     },
     "execution_count": 4,
     "metadata": {},
     "output_type": "execute_result"
    }
   ],
   "source": [
    "delivery_data[\"delivery_mention\"].value_counts()"
   ]
  },
  {
   "cell_type": "code",
   "execution_count": 5,
   "id": "84438bf8-9a20-49a9-90ed-7c187ca77aec",
   "metadata": {},
   "outputs": [
    {
     "name": "stdout",
     "output_type": "stream",
     "text": [
      "T-statistic: 3.12131243071279\n",
      "P-value: 0.0010115314018570322\n"
     ]
    }
   ],
   "source": [
    "from scipy.stats import ttest_ind\n",
    "\n",
    "# Split data into two groups\n",
    "mention_group = delivery_data[delivery_data['delivery_mention'] == 1]['review_rating']\n",
    "no_mention_group = delivery_data[delivery_data['delivery_mention'] == 0]['review_rating']\n",
    "\n",
    "# Perform one-tailed t-test\n",
    "t_statistic, p_value = ttest_ind(mention_group, no_mention_group, alternative='greater')\n",
    "\n",
    "print(f\"T-statistic: {t_statistic}\")\n",
    "print(f\"P-value: {p_value}\")\n"
   ]
  },
  {
   "cell_type": "markdown",
   "id": "51937d6c-3933-4f47-967b-a509ff47aaf0",
   "metadata": {},
   "source": [
    "Now, let's interpret the results:\n",
    "\n",
    "P-value Interpretation:\n",
    "\n",
    "Since p-value is less than your chosen significance level (commonly 0.05), we would reject the null hypothesis.\n",
    "\n",
    "Since you are using alternative='greater' in the t-test, a small p-value would provide evidence to suggest that reviews with mentions of \"delivery\" have significantly higher ratings than reviews without such mentions."
   ]
  },
  {
   "cell_type": "code",
   "execution_count": null,
   "id": "a458e069-3c9b-4648-b829-b53ea8b65789",
   "metadata": {},
   "outputs": [],
   "source": []
  }
 ],
 "metadata": {
  "kernelspec": {
   "display_name": "final_project",
   "language": "python",
   "name": "final_project"
  },
  "language_info": {
   "codemirror_mode": {
    "name": "ipython",
    "version": 3
   },
   "file_extension": ".py",
   "mimetype": "text/x-python",
   "name": "python",
   "nbconvert_exporter": "python",
   "pygments_lexer": "ipython3",
   "version": "3.11.5"
  }
 },
 "nbformat": 4,
 "nbformat_minor": 5
}
