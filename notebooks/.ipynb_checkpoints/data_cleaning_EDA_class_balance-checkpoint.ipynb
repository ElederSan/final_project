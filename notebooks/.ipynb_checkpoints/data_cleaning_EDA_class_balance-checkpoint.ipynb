{
 "cells": [
  {
   "cell_type": "code",
   "execution_count": 1,
   "id": "b9023672-4ad2-4a7b-9dbf-a20c7aff04eb",
   "metadata": {},
   "outputs": [],
   "source": [
    "import requests\n",
    "import json\n",
    "from bs4 import BeautifulSoup\n",
    "import pandas as pd\n",
    "import datetime as dt\n",
    "import re\n",
    "from datetime import datetime\n",
    "import pandas as pd\n",
    "import numpy as np\n",
    "import matplotlib.pyplot as plt\n",
    "import seaborn as sns\n",
    "\n",
    "plt.style.use(\"ggplot\")"
   ]
  },
  {
   "cell_type": "code",
   "execution_count": 2,
   "id": "be9f258e-6a6d-41dd-af00-7831d614d501",
   "metadata": {},
   "outputs": [
    {
     "name": "stderr",
     "output_type": "stream",
     "text": [
      "[nltk_data] Downloading package punkt to\n",
      "[nltk_data]     C:\\Users\\e.sansebastian\\AppData\\Roaming\\nltk_data...\n",
      "[nltk_data]   Package punkt is already up-to-date!\n",
      "[nltk_data] Downloading package stopwords to\n",
      "[nltk_data]     C:\\Users\\e.sansebastian\\AppData\\Roaming\\nltk_data...\n",
      "[nltk_data]   Package stopwords is already up-to-date!\n",
      "[nltk_data] Downloading package wordnet to\n",
      "[nltk_data]     C:\\Users\\e.sansebastian\\AppData\\Roaming\\nltk_data...\n",
      "[nltk_data]   Package wordnet is already up-to-date!\n",
      "[nltk_data] Downloading package tagsets to\n",
      "[nltk_data]     C:\\Users\\e.sansebastian\\AppData\\Roaming\\nltk_data...\n",
      "[nltk_data]   Package tagsets is already up-to-date!\n"
     ]
    },
    {
     "data": {
      "text/plain": [
       "True"
      ]
     },
     "execution_count": 2,
     "metadata": {},
     "output_type": "execute_result"
    }
   ],
   "source": [
    "import nltk\n",
    "nltk.download('punkt')\n",
    "nltk.download('stopwords')\n",
    "nltk.download('wordnet')\n",
    "nltk.download('tagsets')"
   ]
  },
  {
   "cell_type": "code",
   "execution_count": 3,
   "id": "a9fd5069-aa88-4f66-80d8-9f1bfea92cfb",
   "metadata": {},
   "outputs": [],
   "source": [
    "from nltk.tokenize import word_tokenize\n",
    "from nltk.stem.snowball import SnowballStemmer\n",
    "from nltk.stem import WordNetLemmatizer"
   ]
  },
  {
   "cell_type": "code",
   "execution_count": 4,
   "id": "10667bcf-9065-48ed-b10d-2fb646d59a8b",
   "metadata": {},
   "outputs": [
    {
     "name": "stdout",
     "output_type": "stream",
     "text": [
      "Requirement already satisfied: stop-words in c:\\users\\e.sansebastian\\onedrive - expondo\\ironhack\\weeks\\week_9\\final_project\\final_project\\lib\\site-packages (2018.7.23)\n",
      "Note: you may need to restart the kernel to use updated packages.\n"
     ]
    }
   ],
   "source": [
    "pip install stop-words"
   ]
  },
  {
   "cell_type": "markdown",
   "id": "853f1c48-3095-4e58-a9e2-aba7566e4872",
   "metadata": {},
   "source": [
    "## Data cleaning and EDA"
   ]
  },
  {
   "cell_type": "markdown",
   "id": "4d01165c-ae3c-4392-b75b-5f71c074bc58",
   "metadata": {},
   "source": [
    "We proceed to read 6 databases, which we have retrieved from different sources:\n",
    "\n",
    "Kaggle :\n",
    "\n",
    "https://www.kaggle.com/datasets/crawlfeeds/trustpilot-reviews-dataset\n",
    "https://www.kaggle.com/code/darpan25bajaj/bank-reviews-complaint-analysis-using-nlp/data\n",
    "\n",
    "Web scrapping from Truspilot:\n",
    "\n",
    "\n",
    "https://www.trustpilot.com/review/expondo.com?sort=recency\n",
    "https://www.trustpilot.com/review/www.amazon.com?sort=recency\n",
    "https://www.trustpilot.com/review/www.mowdirect.co.uk?sort=recency\n",
    "\n",
    "In order to reduce the class inbalance with which we will deal later, we have explicitely scraped neutral reviews from large companies, such as amazon and mowdirect.\n"
   ]
  },
  {
   "cell_type": "code",
   "execution_count": 6,
   "id": "9d1d12d4-cd68-40e2-857e-21cca25e044f",
   "metadata": {},
   "outputs": [
    {
     "data": {
      "text/html": [
       "<div>\n",
       "<style scoped>\n",
       "    .dataframe tbody tr th:only-of-type {\n",
       "        vertical-align: middle;\n",
       "    }\n",
       "\n",
       "    .dataframe tbody tr th {\n",
       "        vertical-align: top;\n",
       "    }\n",
       "\n",
       "    .dataframe thead th {\n",
       "        text-align: right;\n",
       "    }\n",
       "</style>\n",
       "<table border=\"1\" class=\"dataframe\">\n",
       "  <thead>\n",
       "    <tr style=\"text-align: right;\">\n",
       "      <th></th>\n",
       "      <th>review_id</th>\n",
       "      <th>review_title</th>\n",
       "      <th>review_date</th>\n",
       "      <th>review_rating</th>\n",
       "      <th>review_content</th>\n",
       "      <th>review_location</th>\n",
       "    </tr>\n",
       "  </thead>\n",
       "  <tbody>\n",
       "    <tr>\n",
       "      <th>0</th>\n",
       "      <td>65aed6b600af4883acaf8caf</td>\n",
       "      <td>TIG (WIG) welder, model S-WIGMA 200PDC</td>\n",
       "      <td>2024-01-22</td>\n",
       "      <td>5</td>\n",
       "      <td>I ordered a TIG (WIG) / MMA welder, model S-WI...</td>\n",
       "      <td>AT</td>\n",
       "    </tr>\n",
       "    <tr>\n",
       "      <th>1</th>\n",
       "      <td>65a68b82126d92f1f9a4d330</td>\n",
       "      <td>Awesome experience</td>\n",
       "      <td>2024-01-15</td>\n",
       "      <td>5</td>\n",
       "      <td>Awesome experience. We had to use their custom...</td>\n",
       "      <td>BG</td>\n",
       "    </tr>\n",
       "    <tr>\n",
       "      <th>2</th>\n",
       "      <td>65a3c4680208eaa47b381c4d</td>\n",
       "      <td>The product arrived on time all the…</td>\n",
       "      <td>2024-01-12</td>\n",
       "      <td>5</td>\n",
       "      <td>The product arrived on time all the assembly d...</td>\n",
       "      <td>IE</td>\n",
       "    </tr>\n",
       "    <tr>\n",
       "      <th>3</th>\n",
       "      <td>659fcc8b2e14391e7d9d5597</td>\n",
       "      <td>Good and fast delivery</td>\n",
       "      <td>2023-12-27</td>\n",
       "      <td>5</td>\n",
       "      <td>Good and fast delivery of this amazing standin...</td>\n",
       "      <td>CZ</td>\n",
       "    </tr>\n",
       "    <tr>\n",
       "      <th>4</th>\n",
       "      <td>659e780423cb48162da0eabb</td>\n",
       "      <td>Bad invoice cross-border purchase - no contact...</td>\n",
       "      <td>2023-12-26</td>\n",
       "      <td>1</td>\n",
       "      <td>Bad invoice - DPH on invoice - shipping to slo...</td>\n",
       "      <td>SK</td>\n",
       "    </tr>\n",
       "  </tbody>\n",
       "</table>\n",
       "</div>"
      ],
      "text/plain": [
       "                  review_id  \\\n",
       "0  65aed6b600af4883acaf8caf   \n",
       "1  65a68b82126d92f1f9a4d330   \n",
       "2  65a3c4680208eaa47b381c4d   \n",
       "3  659fcc8b2e14391e7d9d5597   \n",
       "4  659e780423cb48162da0eabb   \n",
       "\n",
       "                                        review_title review_date  \\\n",
       "0             TIG (WIG) welder, model S-WIGMA 200PDC  2024-01-22   \n",
       "1                                 Awesome experience  2024-01-15   \n",
       "2               The product arrived on time all the…  2024-01-12   \n",
       "3                             Good and fast delivery  2023-12-27   \n",
       "4  Bad invoice cross-border purchase - no contact...  2023-12-26   \n",
       "\n",
       "   review_rating                                     review_content  \\\n",
       "0              5  I ordered a TIG (WIG) / MMA welder, model S-WI...   \n",
       "1              5  Awesome experience. We had to use their custom...   \n",
       "2              5  The product arrived on time all the assembly d...   \n",
       "3              5  Good and fast delivery of this amazing standin...   \n",
       "4              1  Bad invoice - DPH on invoice - shipping to slo...   \n",
       "\n",
       "  review_location  \n",
       "0              AT  \n",
       "1              BG  \n",
       "2              IE  \n",
       "3              CZ  \n",
       "4              SK  "
      ]
     },
     "execution_count": 6,
     "metadata": {},
     "output_type": "execute_result"
    }
   ],
   "source": [
    "expondo_raw = pd.read_csv(\"./data/expondo_reviews_since_2023.csv\")\n",
    "expondo_raw.head()"
   ]
  },
  {
   "cell_type": "markdown",
   "id": "d6bd8503-3f79-4ca8-be3f-f5fbd14e172a",
   "metadata": {},
   "source": [
    "For the data cleaning we are going to unify the columns from subsequent datasets. We will keep:\n",
    "\n",
    "- review_title\n",
    "- review_date\n",
    "- review_content\n",
    "- review_rating\n"
   ]
  },
  {
   "cell_type": "code",
   "execution_count": 7,
   "id": "62e280ae-fa1e-4db3-985c-e682cbba9235",
   "metadata": {},
   "outputs": [],
   "source": [
    "expondo_data = expondo_raw.drop(columns = [\"review_id\",\"review_location\",\"review_date\"],axis=1)"
   ]
  },
  {
   "cell_type": "code",
   "execution_count": 8,
   "id": "60bb0c8b-5d90-4244-982d-4bce65d8b876",
   "metadata": {},
   "outputs": [],
   "source": [
    "# For later monitoring we are going to identify each dataset, adding a column of source before concatenating them all\n",
    "\n",
    "expondo_data[\"source\"] = \"expondo\""
   ]
  },
  {
   "cell_type": "code",
   "execution_count": 9,
   "id": "68832ea4-f9db-4192-a6d6-d77dcc87cca8",
   "metadata": {},
   "outputs": [
    {
     "data": {
      "text/html": [
       "<div>\n",
       "<style scoped>\n",
       "    .dataframe tbody tr th:only-of-type {\n",
       "        vertical-align: middle;\n",
       "    }\n",
       "\n",
       "    .dataframe tbody tr th {\n",
       "        vertical-align: top;\n",
       "    }\n",
       "\n",
       "    .dataframe thead th {\n",
       "        text-align: right;\n",
       "    }\n",
       "</style>\n",
       "<table border=\"1\" class=\"dataframe\">\n",
       "  <thead>\n",
       "    <tr style=\"text-align: right;\">\n",
       "      <th></th>\n",
       "      <th>review_title</th>\n",
       "      <th>review_rating</th>\n",
       "      <th>review_content</th>\n",
       "      <th>source</th>\n",
       "    </tr>\n",
       "  </thead>\n",
       "  <tbody>\n",
       "    <tr>\n",
       "      <th>0</th>\n",
       "      <td>TIG (WIG) welder, model S-WIGMA 200PDC</td>\n",
       "      <td>5</td>\n",
       "      <td>I ordered a TIG (WIG) / MMA welder, model S-WI...</td>\n",
       "      <td>expondo</td>\n",
       "    </tr>\n",
       "    <tr>\n",
       "      <th>1</th>\n",
       "      <td>Awesome experience</td>\n",
       "      <td>5</td>\n",
       "      <td>Awesome experience. We had to use their custom...</td>\n",
       "      <td>expondo</td>\n",
       "    </tr>\n",
       "    <tr>\n",
       "      <th>2</th>\n",
       "      <td>The product arrived on time all the…</td>\n",
       "      <td>5</td>\n",
       "      <td>The product arrived on time all the assembly d...</td>\n",
       "      <td>expondo</td>\n",
       "    </tr>\n",
       "    <tr>\n",
       "      <th>3</th>\n",
       "      <td>Good and fast delivery</td>\n",
       "      <td>5</td>\n",
       "      <td>Good and fast delivery of this amazing standin...</td>\n",
       "      <td>expondo</td>\n",
       "    </tr>\n",
       "    <tr>\n",
       "      <th>4</th>\n",
       "      <td>Bad invoice cross-border purchase - no contact...</td>\n",
       "      <td>1</td>\n",
       "      <td>Bad invoice - DPH on invoice - shipping to slo...</td>\n",
       "      <td>expondo</td>\n",
       "    </tr>\n",
       "  </tbody>\n",
       "</table>\n",
       "</div>"
      ],
      "text/plain": [
       "                                        review_title  review_rating  \\\n",
       "0             TIG (WIG) welder, model S-WIGMA 200PDC              5   \n",
       "1                                 Awesome experience              5   \n",
       "2               The product arrived on time all the…              5   \n",
       "3                             Good and fast delivery              5   \n",
       "4  Bad invoice cross-border purchase - no contact...              1   \n",
       "\n",
       "                                      review_content   source  \n",
       "0  I ordered a TIG (WIG) / MMA welder, model S-WI...  expondo  \n",
       "1  Awesome experience. We had to use their custom...  expondo  \n",
       "2  The product arrived on time all the assembly d...  expondo  \n",
       "3  Good and fast delivery of this amazing standin...  expondo  \n",
       "4  Bad invoice - DPH on invoice - shipping to slo...  expondo  "
      ]
     },
     "execution_count": 9,
     "metadata": {},
     "output_type": "execute_result"
    }
   ],
   "source": [
    "expondo_data.head()"
   ]
  },
  {
   "cell_type": "code",
   "execution_count": 10,
   "id": "cfa986f2-bd14-4e78-906b-0d3d9b837a64",
   "metadata": {},
   "outputs": [
    {
     "name": "stdout",
     "output_type": "stream",
     "text": [
      "<class 'pandas.core.frame.DataFrame'>\n",
      "RangeIndex: 240 entries, 0 to 239\n",
      "Data columns (total 4 columns):\n",
      " #   Column          Non-Null Count  Dtype \n",
      "---  ------          --------------  ----- \n",
      " 0   review_title    240 non-null    object\n",
      " 1   review_rating   240 non-null    int64 \n",
      " 2   review_content  201 non-null    object\n",
      " 3   source          240 non-null    object\n",
      "dtypes: int64(1), object(3)\n",
      "memory usage: 7.6+ KB\n"
     ]
    }
   ],
   "source": [
    "expondo_data.info()"
   ]
  },
  {
   "cell_type": "code",
   "execution_count": 11,
   "id": "bdcfdb82-d5cd-49bc-889b-7da403f6265e",
   "metadata": {},
   "outputs": [],
   "source": [
    "bank_raw = pd.read_csv(\"./data/bank_reviews.csv\")"
   ]
  },
  {
   "cell_type": "code",
   "execution_count": 12,
   "id": "efbb4c72-d2de-48cb-b5f3-55b6fd27723c",
   "metadata": {},
   "outputs": [
    {
     "data": {
      "text/html": [
       "<div>\n",
       "<style scoped>\n",
       "    .dataframe tbody tr th:only-of-type {\n",
       "        vertical-align: middle;\n",
       "    }\n",
       "\n",
       "    .dataframe tbody tr th {\n",
       "        vertical-align: top;\n",
       "    }\n",
       "\n",
       "    .dataframe thead th {\n",
       "        text-align: right;\n",
       "    }\n",
       "</style>\n",
       "<table border=\"1\" class=\"dataframe\">\n",
       "  <thead>\n",
       "    <tr style=\"text-align: right;\">\n",
       "      <th></th>\n",
       "      <th>Title</th>\n",
       "      <th>Content</th>\n",
       "      <th>Date</th>\n",
       "      <th>Rating</th>\n",
       "      <th>Lender</th>\n",
       "    </tr>\n",
       "  </thead>\n",
       "  <tbody>\n",
       "    <tr>\n",
       "      <th>0</th>\n",
       "      <td>Disgusting customer service.</td>\n",
       "      <td>Still waiting for a refund into my bank accoun...</td>\n",
       "      <td>26-Aug-20</td>\n",
       "      <td>1</td>\n",
       "      <td>Vanquis Bank</td>\n",
       "    </tr>\n",
       "    <tr>\n",
       "      <th>1</th>\n",
       "      <td>Another poor company with very bad…</td>\n",
       "      <td>Another poor company with very bad customer sk...</td>\n",
       "      <td>26-Aug-20</td>\n",
       "      <td>1</td>\n",
       "      <td>Vanquis Bank</td>\n",
       "    </tr>\n",
       "    <tr>\n",
       "      <th>2</th>\n",
       "      <td>I'm very happy with VANQUIS Card</td>\n",
       "      <td>I'm very happy with VANQUIS Card, 👍</td>\n",
       "      <td>26-Aug-20</td>\n",
       "      <td>5</td>\n",
       "      <td>Vanquis Bank</td>\n",
       "    </tr>\n",
       "    <tr>\n",
       "      <th>3</th>\n",
       "      <td>I have been with Vanquis for approx 2…</td>\n",
       "      <td>I have been with Vanquis for approx 2 years an...</td>\n",
       "      <td>26-Aug-20</td>\n",
       "      <td>5</td>\n",
       "      <td>Vanquis Bank</td>\n",
       "    </tr>\n",
       "    <tr>\n",
       "      <th>4</th>\n",
       "      <td>Fab app and dead easy to sign up</td>\n",
       "      <td>after asking for and receiving a 2 week break ...</td>\n",
       "      <td>26-Aug-20</td>\n",
       "      <td>5</td>\n",
       "      <td>Vanquis Bank</td>\n",
       "    </tr>\n",
       "  </tbody>\n",
       "</table>\n",
       "</div>"
      ],
      "text/plain": [
       "                                    Title  \\\n",
       "0            Disgusting customer service.   \n",
       "1     Another poor company with very bad…   \n",
       "2        I'm very happy with VANQUIS Card   \n",
       "3  I have been with Vanquis for approx 2…   \n",
       "4        Fab app and dead easy to sign up   \n",
       "\n",
       "                                             Content       Date  Rating  \\\n",
       "0  Still waiting for a refund into my bank accoun...  26-Aug-20       1   \n",
       "1  Another poor company with very bad customer sk...  26-Aug-20       1   \n",
       "2                I'm very happy with VANQUIS Card, 👍  26-Aug-20       5   \n",
       "3  I have been with Vanquis for approx 2 years an...  26-Aug-20       5   \n",
       "4  after asking for and receiving a 2 week break ...  26-Aug-20       5   \n",
       "\n",
       "         Lender  \n",
       "0  Vanquis Bank  \n",
       "1  Vanquis Bank  \n",
       "2  Vanquis Bank  \n",
       "3  Vanquis Bank  \n",
       "4  Vanquis Bank  "
      ]
     },
     "execution_count": 12,
     "metadata": {},
     "output_type": "execute_result"
    }
   ],
   "source": [
    "bank_raw.head()"
   ]
  },
  {
   "cell_type": "code",
   "execution_count": 13,
   "id": "f9c9cb22-3278-47be-a780-655c47a68e0d",
   "metadata": {},
   "outputs": [
    {
     "data": {
      "text/html": [
       "<div>\n",
       "<style scoped>\n",
       "    .dataframe tbody tr th:only-of-type {\n",
       "        vertical-align: middle;\n",
       "    }\n",
       "\n",
       "    .dataframe tbody tr th {\n",
       "        vertical-align: top;\n",
       "    }\n",
       "\n",
       "    .dataframe thead th {\n",
       "        text-align: right;\n",
       "    }\n",
       "</style>\n",
       "<table border=\"1\" class=\"dataframe\">\n",
       "  <thead>\n",
       "    <tr style=\"text-align: right;\">\n",
       "      <th></th>\n",
       "      <th>review_title</th>\n",
       "      <th>review_content</th>\n",
       "      <th>review_rating</th>\n",
       "      <th>source</th>\n",
       "    </tr>\n",
       "  </thead>\n",
       "  <tbody>\n",
       "    <tr>\n",
       "      <th>0</th>\n",
       "      <td>Disgusting customer service.</td>\n",
       "      <td>Still waiting for a refund into my bank accoun...</td>\n",
       "      <td>1</td>\n",
       "      <td>bank</td>\n",
       "    </tr>\n",
       "    <tr>\n",
       "      <th>1</th>\n",
       "      <td>Another poor company with very bad…</td>\n",
       "      <td>Another poor company with very bad customer sk...</td>\n",
       "      <td>1</td>\n",
       "      <td>bank</td>\n",
       "    </tr>\n",
       "    <tr>\n",
       "      <th>2</th>\n",
       "      <td>I'm very happy with VANQUIS Card</td>\n",
       "      <td>I'm very happy with VANQUIS Card, 👍</td>\n",
       "      <td>5</td>\n",
       "      <td>bank</td>\n",
       "    </tr>\n",
       "    <tr>\n",
       "      <th>3</th>\n",
       "      <td>I have been with Vanquis for approx 2…</td>\n",
       "      <td>I have been with Vanquis for approx 2 years an...</td>\n",
       "      <td>5</td>\n",
       "      <td>bank</td>\n",
       "    </tr>\n",
       "    <tr>\n",
       "      <th>4</th>\n",
       "      <td>Fab app and dead easy to sign up</td>\n",
       "      <td>after asking for and receiving a 2 week break ...</td>\n",
       "      <td>5</td>\n",
       "      <td>bank</td>\n",
       "    </tr>\n",
       "  </tbody>\n",
       "</table>\n",
       "</div>"
      ],
      "text/plain": [
       "                             review_title  \\\n",
       "0            Disgusting customer service.   \n",
       "1     Another poor company with very bad…   \n",
       "2        I'm very happy with VANQUIS Card   \n",
       "3  I have been with Vanquis for approx 2…   \n",
       "4        Fab app and dead easy to sign up   \n",
       "\n",
       "                                      review_content  review_rating source  \n",
       "0  Still waiting for a refund into my bank accoun...              1   bank  \n",
       "1  Another poor company with very bad customer sk...              1   bank  \n",
       "2                I'm very happy with VANQUIS Card, 👍              5   bank  \n",
       "3  I have been with Vanquis for approx 2 years an...              5   bank  \n",
       "4  after asking for and receiving a 2 week break ...              5   bank  "
      ]
     },
     "execution_count": 13,
     "metadata": {},
     "output_type": "execute_result"
    }
   ],
   "source": [
    "# We drop the unnecessary columns, rename them according our first df and add the source\n",
    "bank_data= bank_raw.drop(columns = [\"Lender\",\"Date\"],axis=1)\n",
    "bank_data.columns=[\"review_title\",\"review_content\",\"review_rating\"]\n",
    "bank_data[\"source\"] = \"bank\"\n",
    "bank_data.head()"
   ]
  },
  {
   "cell_type": "code",
   "execution_count": 14,
   "id": "3c14537c-d48b-4a26-bd54-9d68d566fad8",
   "metadata": {},
   "outputs": [
    {
     "name": "stdout",
     "output_type": "stream",
     "text": [
      "<class 'pandas.core.frame.DataFrame'>\n",
      "RangeIndex: 24971 entries, 0 to 24970\n",
      "Data columns (total 4 columns):\n",
      " #   Column          Non-Null Count  Dtype \n",
      "---  ------          --------------  ----- \n",
      " 0   review_title    24971 non-null  object\n",
      " 1   review_content  24971 non-null  object\n",
      " 2   review_rating   24971 non-null  int64 \n",
      " 3   source          24971 non-null  object\n",
      "dtypes: int64(1), object(3)\n",
      "memory usage: 780.5+ KB\n"
     ]
    }
   ],
   "source": [
    "bank_data.info()"
   ]
  },
  {
   "cell_type": "code",
   "execution_count": 15,
   "id": "9ed7fb05-25d8-4a0a-8d17-1542b521454c",
   "metadata": {},
   "outputs": [],
   "source": [
    "asos_raw= pd.read_csv(\"./data/ASOS_Trustpilot_13.csv\",encoding='latin-1')"
   ]
  },
  {
   "cell_type": "code",
   "execution_count": 16,
   "id": "10fb4e7e-19a0-43b2-9138-17e4768fd77d",
   "metadata": {},
   "outputs": [
    {
     "data": {
      "text/html": [
       "<div>\n",
       "<style scoped>\n",
       "    .dataframe tbody tr th:only-of-type {\n",
       "        vertical-align: middle;\n",
       "    }\n",
       "\n",
       "    .dataframe tbody tr th {\n",
       "        vertical-align: top;\n",
       "    }\n",
       "\n",
       "    .dataframe thead th {\n",
       "        text-align: right;\n",
       "    }\n",
       "</style>\n",
       "<table border=\"1\" class=\"dataframe\">\n",
       "  <thead>\n",
       "    <tr style=\"text-align: right;\">\n",
       "      <th></th>\n",
       "      <th>Name</th>\n",
       "      <th>Date</th>\n",
       "      <th>Review_Title</th>\n",
       "      <th>Review_Text</th>\n",
       "      <th>Location</th>\n",
       "      <th>Rating</th>\n",
       "    </tr>\n",
       "  </thead>\n",
       "  <tbody>\n",
       "    <tr>\n",
       "      <th>0</th>\n",
       "      <td>wezwilde</td>\n",
       "      <td>January 03, 2023</td>\n",
       "      <td>Where do I start?</td>\n",
       "      <td>Where do I start?Moneque in livechat / custome...</td>\n",
       "      <td>GB</td>\n",
       "      <td>Rated 1 out of 5 stars</td>\n",
       "    </tr>\n",
       "    <tr>\n",
       "      <th>1</th>\n",
       "      <td>Jordan Ankers</td>\n",
       "      <td>January 04, 2023</td>\n",
       "      <td>Worst customer service and courier??</td>\n",
       "      <td>Worst customer service and courier service in ...</td>\n",
       "      <td>GB</td>\n",
       "      <td>Rated 1 out of 5 stars</td>\n",
       "    </tr>\n",
       "    <tr>\n",
       "      <th>2</th>\n",
       "      <td>Sum</td>\n",
       "      <td>January 03, 2023</td>\n",
       "      <td>DO NOT USE ASOS</td>\n",
       "      <td>I cannot believe ASOS have hired Evri as a cou...</td>\n",
       "      <td>GB</td>\n",
       "      <td>Rated 1 out of 5 stars</td>\n",
       "    </tr>\n",
       "    <tr>\n",
       "      <th>3</th>\n",
       "      <td>Tracey Young</td>\n",
       "      <td>December 20, 2022</td>\n",
       "      <td>Terrible service</td>\n",
       "      <td>Terrible service. Never received parcel that w...</td>\n",
       "      <td>GB</td>\n",
       "      <td>Rated 1 out of 5 stars</td>\n",
       "    </tr>\n",
       "    <tr>\n",
       "      <th>4</th>\n",
       "      <td>adam saumtally</td>\n",
       "      <td>December 28, 2022</td>\n",
       "      <td>Absolutely rubbish</td>\n",
       "      <td>Absolutely rubbish. Poor customer service. Tel...</td>\n",
       "      <td>GB</td>\n",
       "      <td>Rated 1 out of 5 stars</td>\n",
       "    </tr>\n",
       "  </tbody>\n",
       "</table>\n",
       "</div>"
      ],
      "text/plain": [
       "             Name               Date                           Review_Title  \\\n",
       "0        wezwilde   January 03, 2023                      Where do I start?   \n",
       "1   Jordan Ankers   January 04, 2023  Worst customer service and courier??   \n",
       "2             Sum   January 03, 2023                        DO NOT USE ASOS   \n",
       "3    Tracey Young  December 20, 2022                       Terrible service   \n",
       "4  adam saumtally  December 28, 2022                     Absolutely rubbish   \n",
       "\n",
       "                                         Review_Text Location  \\\n",
       "0  Where do I start?Moneque in livechat / custome...       GB   \n",
       "1  Worst customer service and courier service in ...       GB   \n",
       "2  I cannot believe ASOS have hired Evri as a cou...       GB   \n",
       "3  Terrible service. Never received parcel that w...       GB   \n",
       "4  Absolutely rubbish. Poor customer service. Tel...       GB   \n",
       "\n",
       "                   Rating  \n",
       "0  Rated 1 out of 5 stars  \n",
       "1  Rated 1 out of 5 stars  \n",
       "2  Rated 1 out of 5 stars  \n",
       "3  Rated 1 out of 5 stars  \n",
       "4  Rated 1 out of 5 stars  "
      ]
     },
     "execution_count": 16,
     "metadata": {},
     "output_type": "execute_result"
    }
   ],
   "source": [
    "asos_raw.head()"
   ]
  },
  {
   "cell_type": "code",
   "execution_count": 17,
   "id": "cd34942c-1620-4250-9653-c7fef545cb26",
   "metadata": {},
   "outputs": [
    {
     "data": {
      "text/html": [
       "<div>\n",
       "<style scoped>\n",
       "    .dataframe tbody tr th:only-of-type {\n",
       "        vertical-align: middle;\n",
       "    }\n",
       "\n",
       "    .dataframe tbody tr th {\n",
       "        vertical-align: top;\n",
       "    }\n",
       "\n",
       "    .dataframe thead th {\n",
       "        text-align: right;\n",
       "    }\n",
       "</style>\n",
       "<table border=\"1\" class=\"dataframe\">\n",
       "  <thead>\n",
       "    <tr style=\"text-align: right;\">\n",
       "      <th></th>\n",
       "      <th>review_title</th>\n",
       "      <th>review_content</th>\n",
       "      <th>review_rating</th>\n",
       "      <th>source</th>\n",
       "    </tr>\n",
       "  </thead>\n",
       "  <tbody>\n",
       "    <tr>\n",
       "      <th>0</th>\n",
       "      <td>Where do I start?</td>\n",
       "      <td>Where do I start?Moneque in livechat / custome...</td>\n",
       "      <td>Rated 1 out of 5 stars</td>\n",
       "      <td>asos</td>\n",
       "    </tr>\n",
       "    <tr>\n",
       "      <th>1</th>\n",
       "      <td>Worst customer service and courier??</td>\n",
       "      <td>Worst customer service and courier service in ...</td>\n",
       "      <td>Rated 1 out of 5 stars</td>\n",
       "      <td>asos</td>\n",
       "    </tr>\n",
       "    <tr>\n",
       "      <th>2</th>\n",
       "      <td>DO NOT USE ASOS</td>\n",
       "      <td>I cannot believe ASOS have hired Evri as a cou...</td>\n",
       "      <td>Rated 1 out of 5 stars</td>\n",
       "      <td>asos</td>\n",
       "    </tr>\n",
       "    <tr>\n",
       "      <th>3</th>\n",
       "      <td>Terrible service</td>\n",
       "      <td>Terrible service. Never received parcel that w...</td>\n",
       "      <td>Rated 1 out of 5 stars</td>\n",
       "      <td>asos</td>\n",
       "    </tr>\n",
       "    <tr>\n",
       "      <th>4</th>\n",
       "      <td>Absolutely rubbish</td>\n",
       "      <td>Absolutely rubbish. Poor customer service. Tel...</td>\n",
       "      <td>Rated 1 out of 5 stars</td>\n",
       "      <td>asos</td>\n",
       "    </tr>\n",
       "  </tbody>\n",
       "</table>\n",
       "</div>"
      ],
      "text/plain": [
       "                            review_title  \\\n",
       "0                      Where do I start?   \n",
       "1  Worst customer service and courier??   \n",
       "2                        DO NOT USE ASOS   \n",
       "3                       Terrible service   \n",
       "4                     Absolutely rubbish   \n",
       "\n",
       "                                      review_content           review_rating  \\\n",
       "0  Where do I start?Moneque in livechat / custome...  Rated 1 out of 5 stars   \n",
       "1  Worst customer service and courier service in ...  Rated 1 out of 5 stars   \n",
       "2  I cannot believe ASOS have hired Evri as a cou...  Rated 1 out of 5 stars   \n",
       "3  Terrible service. Never received parcel that w...  Rated 1 out of 5 stars   \n",
       "4  Absolutely rubbish. Poor customer service. Tel...  Rated 1 out of 5 stars   \n",
       "\n",
       "  source  \n",
       "0   asos  \n",
       "1   asos  \n",
       "2   asos  \n",
       "3   asos  \n",
       "4   asos  "
      ]
     },
     "execution_count": 17,
     "metadata": {},
     "output_type": "execute_result"
    }
   ],
   "source": [
    "# We drop the unnecessary columns, rename them according our first df and add the source\n",
    "asos_data = asos_raw.drop(columns=[\"Name\",\"Location\",\"Date\"])\n",
    "asos_data.columns=[\"review_title\",\"review_content\",\"review_rating\"]\n",
    "asos_data[\"source\"] = \"asos\"\n",
    "asos_data.head()"
   ]
  },
  {
   "cell_type": "code",
   "execution_count": 18,
   "id": "8ea99bbf-a48b-4775-8899-5fa9a8976b07",
   "metadata": {},
   "outputs": [],
   "source": [
    "# We create a function to extract the rating as number, since it´s formatted like Rated 1 out of 5 stars\n",
    "\n",
    "def clean_rating(review_rating):\n",
    "    match = re.search(r'Rated (\\d+) out', review_rating)\n",
    "    if match:\n",
    "        return int(match.group(1))\n",
    "    else:\n",
    "        return None"
   ]
  },
  {
   "cell_type": "code",
   "execution_count": 19,
   "id": "75e11c01-88ab-4f10-826d-d94faff144b9",
   "metadata": {},
   "outputs": [
    {
     "data": {
      "text/html": [
       "<div>\n",
       "<style scoped>\n",
       "    .dataframe tbody tr th:only-of-type {\n",
       "        vertical-align: middle;\n",
       "    }\n",
       "\n",
       "    .dataframe tbody tr th {\n",
       "        vertical-align: top;\n",
       "    }\n",
       "\n",
       "    .dataframe thead th {\n",
       "        text-align: right;\n",
       "    }\n",
       "</style>\n",
       "<table border=\"1\" class=\"dataframe\">\n",
       "  <thead>\n",
       "    <tr style=\"text-align: right;\">\n",
       "      <th></th>\n",
       "      <th>review_title</th>\n",
       "      <th>review_content</th>\n",
       "      <th>review_rating</th>\n",
       "      <th>source</th>\n",
       "    </tr>\n",
       "  </thead>\n",
       "  <tbody>\n",
       "    <tr>\n",
       "      <th>0</th>\n",
       "      <td>Where do I start?</td>\n",
       "      <td>Where do I start?Moneque in livechat / custome...</td>\n",
       "      <td>1</td>\n",
       "      <td>asos</td>\n",
       "    </tr>\n",
       "    <tr>\n",
       "      <th>1</th>\n",
       "      <td>Worst customer service and courier??</td>\n",
       "      <td>Worst customer service and courier service in ...</td>\n",
       "      <td>1</td>\n",
       "      <td>asos</td>\n",
       "    </tr>\n",
       "    <tr>\n",
       "      <th>2</th>\n",
       "      <td>DO NOT USE ASOS</td>\n",
       "      <td>I cannot believe ASOS have hired Evri as a cou...</td>\n",
       "      <td>1</td>\n",
       "      <td>asos</td>\n",
       "    </tr>\n",
       "    <tr>\n",
       "      <th>3</th>\n",
       "      <td>Terrible service</td>\n",
       "      <td>Terrible service. Never received parcel that w...</td>\n",
       "      <td>1</td>\n",
       "      <td>asos</td>\n",
       "    </tr>\n",
       "    <tr>\n",
       "      <th>4</th>\n",
       "      <td>Absolutely rubbish</td>\n",
       "      <td>Absolutely rubbish. Poor customer service. Tel...</td>\n",
       "      <td>1</td>\n",
       "      <td>asos</td>\n",
       "    </tr>\n",
       "  </tbody>\n",
       "</table>\n",
       "</div>"
      ],
      "text/plain": [
       "                            review_title  \\\n",
       "0                      Where do I start?   \n",
       "1  Worst customer service and courier??   \n",
       "2                        DO NOT USE ASOS   \n",
       "3                       Terrible service   \n",
       "4                     Absolutely rubbish   \n",
       "\n",
       "                                      review_content  review_rating source  \n",
       "0  Where do I start?Moneque in livechat / custome...              1   asos  \n",
       "1  Worst customer service and courier service in ...              1   asos  \n",
       "2  I cannot believe ASOS have hired Evri as a cou...              1   asos  \n",
       "3  Terrible service. Never received parcel that w...              1   asos  \n",
       "4  Absolutely rubbish. Poor customer service. Tel...              1   asos  "
      ]
     },
     "execution_count": 19,
     "metadata": {},
     "output_type": "execute_result"
    }
   ],
   "source": [
    "# We apply it to the review_rating column\n",
    "\n",
    "asos_data[\"review_rating\"] = asos_data[\"review_rating\"].apply(clean_rating)\n",
    "asos_data.head()"
   ]
  },
  {
   "cell_type": "code",
   "execution_count": 20,
   "id": "103bdf6c-832c-4c67-ac76-a1eff8d71c84",
   "metadata": {},
   "outputs": [
    {
     "name": "stdout",
     "output_type": "stream",
     "text": [
      "<class 'pandas.core.frame.DataFrame'>\n",
      "RangeIndex: 2020 entries, 0 to 2019\n",
      "Data columns (total 4 columns):\n",
      " #   Column          Non-Null Count  Dtype \n",
      "---  ------          --------------  ----- \n",
      " 0   review_title    2020 non-null   object\n",
      " 1   review_content  1991 non-null   object\n",
      " 2   review_rating   2020 non-null   int64 \n",
      " 3   source          2020 non-null   object\n",
      "dtypes: int64(1), object(3)\n",
      "memory usage: 63.3+ KB\n"
     ]
    }
   ],
   "source": [
    "asos_data.info()"
   ]
  },
  {
   "cell_type": "code",
   "execution_count": 21,
   "id": "753ca73a-8517-4804-9790-5913d69c2847",
   "metadata": {},
   "outputs": [
    {
     "data": {
      "text/html": [
       "<div>\n",
       "<style scoped>\n",
       "    .dataframe tbody tr th:only-of-type {\n",
       "        vertical-align: middle;\n",
       "    }\n",
       "\n",
       "    .dataframe tbody tr th {\n",
       "        vertical-align: top;\n",
       "    }\n",
       "\n",
       "    .dataframe thead th {\n",
       "        text-align: right;\n",
       "    }\n",
       "</style>\n",
       "<table border=\"1\" class=\"dataframe\">\n",
       "  <thead>\n",
       "    <tr style=\"text-align: right;\">\n",
       "      <th></th>\n",
       "      <th>name</th>\n",
       "      <th>company_url</th>\n",
       "      <th>trustpilot_url</th>\n",
       "      <th>description</th>\n",
       "      <th>author_name</th>\n",
       "      <th>review_title</th>\n",
       "      <th>review_text</th>\n",
       "      <th>rating</th>\n",
       "      <th>reviewed_at</th>\n",
       "      <th>uniq_id</th>\n",
       "      <th>scraped_at</th>\n",
       "    </tr>\n",
       "  </thead>\n",
       "  <tbody>\n",
       "    <tr>\n",
       "      <th>0</th>\n",
       "      <td>Poundshop</td>\n",
       "      <td>https://www.poundshop.com/</td>\n",
       "      <td>https://uk.trustpilot.com/review/www.poundshop...</td>\n",
       "      <td>The home for top brands, amazing value! We hav...</td>\n",
       "      <td>Colin</td>\n",
       "      <td>Lowest price in the country</td>\n",
       "      <td>Lowest price in the country for what we wanted...</td>\n",
       "      <td>5</td>\n",
       "      <td>2022-06-18T12:08:09.000Z</td>\n",
       "      <td>7e0edfe9-7251-5561-acc8-34f7d3ab79aa</td>\n",
       "      <td>06/18/22</td>\n",
       "    </tr>\n",
       "    <tr>\n",
       "      <th>1</th>\n",
       "      <td>Poundshop</td>\n",
       "      <td>https://www.poundshop.com/</td>\n",
       "      <td>https://uk.trustpilot.com/review/www.poundshop...</td>\n",
       "      <td>The home for top brands, amazing value! We hav...</td>\n",
       "      <td>Mr Paul Harrison</td>\n",
       "      <td>got it on time they took notice that I…</td>\n",
       "      <td>got it on time they took notice that I let the...</td>\n",
       "      <td>5</td>\n",
       "      <td>2022-06-18T11:48:20.000Z</td>\n",
       "      <td>7e0edfe9-7251-5561-acc8-34f7d3ab79aa</td>\n",
       "      <td>06/18/22</td>\n",
       "    </tr>\n",
       "    <tr>\n",
       "      <th>2</th>\n",
       "      <td>Poundshop</td>\n",
       "      <td>https://www.poundshop.com/</td>\n",
       "      <td>https://uk.trustpilot.com/review/www.poundshop...</td>\n",
       "      <td>The home for top brands, amazing value! We hav...</td>\n",
       "      <td>Mrs Dean</td>\n",
       "      <td>Delivered on time</td>\n",
       "      <td>Delivered on time. Products as described, pack...</td>\n",
       "      <td>5</td>\n",
       "      <td>2022-06-18T11:32:52.000Z</td>\n",
       "      <td>7e0edfe9-7251-5561-acc8-34f7d3ab79aa</td>\n",
       "      <td>06/18/22</td>\n",
       "    </tr>\n",
       "    <tr>\n",
       "      <th>3</th>\n",
       "      <td>Poundshop</td>\n",
       "      <td>https://www.poundshop.com/</td>\n",
       "      <td>https://uk.trustpilot.com/review/www.poundshop...</td>\n",
       "      <td>The home for top brands, amazing value! We hav...</td>\n",
       "      <td>Mrs Barlow</td>\n",
       "      <td>Quick and efficient service..</td>\n",
       "      <td>Quick and efficient service..Pleased</td>\n",
       "      <td>5</td>\n",
       "      <td>2022-06-18T11:29:27.000Z</td>\n",
       "      <td>7e0edfe9-7251-5561-acc8-34f7d3ab79aa</td>\n",
       "      <td>06/18/22</td>\n",
       "    </tr>\n",
       "    <tr>\n",
       "      <th>4</th>\n",
       "      <td>Poundshop</td>\n",
       "      <td>https://www.poundshop.com/</td>\n",
       "      <td>https://uk.trustpilot.com/review/www.poundshop...</td>\n",
       "      <td>The home for top brands, amazing value! We hav...</td>\n",
       "      <td>Graham Bradbury</td>\n",
       "      <td>Excellent service packed well</td>\n",
       "      <td>Excellent service packed well. Really pleased.</td>\n",
       "      <td>5</td>\n",
       "      <td>2022-06-18T11:22:37.000Z</td>\n",
       "      <td>7e0edfe9-7251-5561-acc8-34f7d3ab79aa</td>\n",
       "      <td>06/18/22</td>\n",
       "    </tr>\n",
       "  </tbody>\n",
       "</table>\n",
       "</div>"
      ],
      "text/plain": [
       "        name                 company_url  \\\n",
       "0  Poundshop  https://www.poundshop.com/   \n",
       "1  Poundshop  https://www.poundshop.com/   \n",
       "2  Poundshop  https://www.poundshop.com/   \n",
       "3  Poundshop  https://www.poundshop.com/   \n",
       "4  Poundshop  https://www.poundshop.com/   \n",
       "\n",
       "                                      trustpilot_url  \\\n",
       "0  https://uk.trustpilot.com/review/www.poundshop...   \n",
       "1  https://uk.trustpilot.com/review/www.poundshop...   \n",
       "2  https://uk.trustpilot.com/review/www.poundshop...   \n",
       "3  https://uk.trustpilot.com/review/www.poundshop...   \n",
       "4  https://uk.trustpilot.com/review/www.poundshop...   \n",
       "\n",
       "                                         description       author_name  \\\n",
       "0  The home for top brands, amazing value! We hav...             Colin   \n",
       "1  The home for top brands, amazing value! We hav...  Mr Paul Harrison   \n",
       "2  The home for top brands, amazing value! We hav...          Mrs Dean   \n",
       "3  The home for top brands, amazing value! We hav...        Mrs Barlow   \n",
       "4  The home for top brands, amazing value! We hav...   Graham Bradbury   \n",
       "\n",
       "                              review_title  \\\n",
       "0              Lowest price in the country   \n",
       "1  got it on time they took notice that I…   \n",
       "2                        Delivered on time   \n",
       "3            Quick and efficient service..   \n",
       "4            Excellent service packed well   \n",
       "\n",
       "                                         review_text  rating  \\\n",
       "0  Lowest price in the country for what we wanted...       5   \n",
       "1  got it on time they took notice that I let the...       5   \n",
       "2  Delivered on time. Products as described, pack...       5   \n",
       "3               Quick and efficient service..Pleased       5   \n",
       "4     Excellent service packed well. Really pleased.       5   \n",
       "\n",
       "                reviewed_at                               uniq_id scraped_at  \n",
       "0  2022-06-18T12:08:09.000Z  7e0edfe9-7251-5561-acc8-34f7d3ab79aa   06/18/22  \n",
       "1  2022-06-18T11:48:20.000Z  7e0edfe9-7251-5561-acc8-34f7d3ab79aa   06/18/22  \n",
       "2  2022-06-18T11:32:52.000Z  7e0edfe9-7251-5561-acc8-34f7d3ab79aa   06/18/22  \n",
       "3  2022-06-18T11:29:27.000Z  7e0edfe9-7251-5561-acc8-34f7d3ab79aa   06/18/22  \n",
       "4  2022-06-18T11:22:37.000Z  7e0edfe9-7251-5561-acc8-34f7d3ab79aa   06/18/22  "
      ]
     },
     "execution_count": 21,
     "metadata": {},
     "output_type": "execute_result"
    }
   ],
   "source": [
    "trustpilot_mix_raw = pd.read_csv(\"./data/trust_pilot_reviews_data_2022_06.csv\")\n",
    "trustpilot_mix_raw.head()"
   ]
  },
  {
   "cell_type": "code",
   "execution_count": 22,
   "id": "b1b588e4-9fc3-486c-bf74-5e10f638c127",
   "metadata": {},
   "outputs": [
    {
     "data": {
      "text/html": [
       "<div>\n",
       "<style scoped>\n",
       "    .dataframe tbody tr th:only-of-type {\n",
       "        vertical-align: middle;\n",
       "    }\n",
       "\n",
       "    .dataframe tbody tr th {\n",
       "        vertical-align: top;\n",
       "    }\n",
       "\n",
       "    .dataframe thead th {\n",
       "        text-align: right;\n",
       "    }\n",
       "</style>\n",
       "<table border=\"1\" class=\"dataframe\">\n",
       "  <thead>\n",
       "    <tr style=\"text-align: right;\">\n",
       "      <th></th>\n",
       "      <th>review_title</th>\n",
       "      <th>review_content</th>\n",
       "      <th>review_rating</th>\n",
       "      <th>source</th>\n",
       "    </tr>\n",
       "  </thead>\n",
       "  <tbody>\n",
       "    <tr>\n",
       "      <th>0</th>\n",
       "      <td>Lowest price in the country</td>\n",
       "      <td>Lowest price in the country for what we wanted...</td>\n",
       "      <td>5</td>\n",
       "      <td>trustpilot_mix_data</td>\n",
       "    </tr>\n",
       "    <tr>\n",
       "      <th>1</th>\n",
       "      <td>got it on time they took notice that I…</td>\n",
       "      <td>got it on time they took notice that I let the...</td>\n",
       "      <td>5</td>\n",
       "      <td>trustpilot_mix_data</td>\n",
       "    </tr>\n",
       "    <tr>\n",
       "      <th>2</th>\n",
       "      <td>Delivered on time</td>\n",
       "      <td>Delivered on time. Products as described, pack...</td>\n",
       "      <td>5</td>\n",
       "      <td>trustpilot_mix_data</td>\n",
       "    </tr>\n",
       "    <tr>\n",
       "      <th>3</th>\n",
       "      <td>Quick and efficient service..</td>\n",
       "      <td>Quick and efficient service..Pleased</td>\n",
       "      <td>5</td>\n",
       "      <td>trustpilot_mix_data</td>\n",
       "    </tr>\n",
       "    <tr>\n",
       "      <th>4</th>\n",
       "      <td>Excellent service packed well</td>\n",
       "      <td>Excellent service packed well. Really pleased.</td>\n",
       "      <td>5</td>\n",
       "      <td>trustpilot_mix_data</td>\n",
       "    </tr>\n",
       "  </tbody>\n",
       "</table>\n",
       "</div>"
      ],
      "text/plain": [
       "                              review_title  \\\n",
       "0              Lowest price in the country   \n",
       "1  got it on time they took notice that I…   \n",
       "2                        Delivered on time   \n",
       "3            Quick and efficient service..   \n",
       "4            Excellent service packed well   \n",
       "\n",
       "                                      review_content  review_rating  \\\n",
       "0  Lowest price in the country for what we wanted...              5   \n",
       "1  got it on time they took notice that I let the...              5   \n",
       "2  Delivered on time. Products as described, pack...              5   \n",
       "3               Quick and efficient service..Pleased              5   \n",
       "4     Excellent service packed well. Really pleased.              5   \n",
       "\n",
       "                source  \n",
       "0  trustpilot_mix_data  \n",
       "1  trustpilot_mix_data  \n",
       "2  trustpilot_mix_data  \n",
       "3  trustpilot_mix_data  \n",
       "4  trustpilot_mix_data  "
      ]
     },
     "execution_count": 22,
     "metadata": {},
     "output_type": "execute_result"
    }
   ],
   "source": [
    "# We drop the unnecessary columns, rename them according our first df and add the source\n",
    "\n",
    "trustpilot_mix_data = trustpilot_mix_raw.drop(columns = [\"name\",\"company_url\",\"trustpilot_url\",\"author_name\",\"uniq_id\",\"scraped_at\",\"reviewed_at\",\"description\"],axis=1)\n",
    "trustpilot_mix_data.columns=[\"review_title\",\"review_content\",\"review_rating\"]\n",
    "trustpilot_mix_data[\"source\"] = \"trustpilot_mix_data\"\n",
    "trustpilot_mix_data.head()"
   ]
  },
  {
   "cell_type": "code",
   "execution_count": 23,
   "id": "c3c404ff-f9d6-4bc2-9579-450bb8279605",
   "metadata": {},
   "outputs": [
    {
     "name": "stdout",
     "output_type": "stream",
     "text": [
      "<class 'pandas.core.frame.DataFrame'>\n",
      "RangeIndex: 3698 entries, 0 to 3697\n",
      "Data columns (total 4 columns):\n",
      " #   Column          Non-Null Count  Dtype \n",
      "---  ------          --------------  ----- \n",
      " 0   review_title    3698 non-null   object\n",
      " 1   review_content  3698 non-null   object\n",
      " 2   review_rating   3698 non-null   int64 \n",
      " 3   source          3698 non-null   object\n",
      "dtypes: int64(1), object(3)\n",
      "memory usage: 115.7+ KB\n"
     ]
    }
   ],
   "source": [
    "trustpilot_mix_data.info()"
   ]
  },
  {
   "cell_type": "code",
   "execution_count": 24,
   "id": "84e3f2bc-ea3b-4eac-8bcb-472a83d9a925",
   "metadata": {},
   "outputs": [
    {
     "data": {
      "text/plain": [
       "(240, 4)"
      ]
     },
     "metadata": {},
     "output_type": "display_data"
    },
    {
     "data": {
      "text/plain": [
       "(24971, 4)"
      ]
     },
     "metadata": {},
     "output_type": "display_data"
    },
    {
     "data": {
      "text/plain": [
       "(2020, 4)"
      ]
     },
     "metadata": {},
     "output_type": "display_data"
    },
    {
     "data": {
      "text/plain": [
       "(3698, 4)"
      ]
     },
     "metadata": {},
     "output_type": "display_data"
    }
   ],
   "source": [
    "# We check the shapes of all df to see that columns match and we will be able to perform the concatenation in a clean way:\n",
    "display(expondo_data.shape)\n",
    "display(bank_data.shape)\n",
    "display(asos_data.shape)\n",
    "display(trustpilot_mix_data.shape)"
   ]
  },
  {
   "cell_type": "code",
   "execution_count": 25,
   "id": "7b7ea925-3573-4271-a890-a946bb62a677",
   "metadata": {},
   "outputs": [
    {
     "data": {
      "text/html": [
       "<div>\n",
       "<style scoped>\n",
       "    .dataframe tbody tr th:only-of-type {\n",
       "        vertical-align: middle;\n",
       "    }\n",
       "\n",
       "    .dataframe tbody tr th {\n",
       "        vertical-align: top;\n",
       "    }\n",
       "\n",
       "    .dataframe thead th {\n",
       "        text-align: right;\n",
       "    }\n",
       "</style>\n",
       "<table border=\"1\" class=\"dataframe\">\n",
       "  <thead>\n",
       "    <tr style=\"text-align: right;\">\n",
       "      <th></th>\n",
       "      <th>review_id</th>\n",
       "      <th>review_title</th>\n",
       "      <th>review_date</th>\n",
       "      <th>review_rating</th>\n",
       "      <th>review_content</th>\n",
       "      <th>review_location</th>\n",
       "    </tr>\n",
       "  </thead>\n",
       "  <tbody>\n",
       "    <tr>\n",
       "      <th>0</th>\n",
       "      <td>65b115680916f543b1a389a3</td>\n",
       "      <td>Bad experience with marketplace seller</td>\n",
       "      <td>45296</td>\n",
       "      <td>2</td>\n",
       "      <td>Unfortunately I had a bad experience which, on...</td>\n",
       "      <td>US</td>\n",
       "    </tr>\n",
       "    <tr>\n",
       "      <th>1</th>\n",
       "      <td>65afdb177d8134ffaae6549a</td>\n",
       "      <td>I always buy products from Amazon</td>\n",
       "      <td>45292</td>\n",
       "      <td>1</td>\n",
       "      <td>I always buy products from Amazon, BUT if ther...</td>\n",
       "      <td>US</td>\n",
       "    </tr>\n",
       "    <tr>\n",
       "      <th>2</th>\n",
       "      <td>65b02d374f07df2dd9dad8b5</td>\n",
       "      <td>No help as usual, this time with the new “One ...</td>\n",
       "      <td>45314</td>\n",
       "      <td>1</td>\n",
       "      <td>I buy products but getting any help is incredi...</td>\n",
       "      <td>US</td>\n",
       "    </tr>\n",
       "    <tr>\n",
       "      <th>3</th>\n",
       "      <td>65b246b77650506acff6d3b2</td>\n",
       "      <td>Touching rock bottom in 2024</td>\n",
       "      <td>45315</td>\n",
       "      <td>1</td>\n",
       "      <td>Amazon used to provide great service until 202...</td>\n",
       "      <td>GB</td>\n",
       "    </tr>\n",
       "    <tr>\n",
       "      <th>4</th>\n",
       "      <td>65b252c6dbd119ab2c125594</td>\n",
       "      <td>Well</td>\n",
       "      <td>45316</td>\n",
       "      <td>4</td>\n",
       "      <td>Well, y'all lot know what it is. It is the one...</td>\n",
       "      <td>DE</td>\n",
       "    </tr>\n",
       "  </tbody>\n",
       "</table>\n",
       "</div>"
      ],
      "text/plain": [
       "                  review_id  \\\n",
       "0  65b115680916f543b1a389a3   \n",
       "1  65afdb177d8134ffaae6549a   \n",
       "2  65b02d374f07df2dd9dad8b5   \n",
       "3  65b246b77650506acff6d3b2   \n",
       "4  65b252c6dbd119ab2c125594   \n",
       "\n",
       "                                        review_title  review_date  \\\n",
       "0             Bad experience with marketplace seller        45296   \n",
       "1                  I always buy products from Amazon        45292   \n",
       "2  No help as usual, this time with the new “One ...        45314   \n",
       "3                       Touching rock bottom in 2024        45315   \n",
       "4                                               Well        45316   \n",
       "\n",
       "   review_rating                                     review_content  \\\n",
       "0              2  Unfortunately I had a bad experience which, on...   \n",
       "1              1  I always buy products from Amazon, BUT if ther...   \n",
       "2              1  I buy products but getting any help is incredi...   \n",
       "3              1  Amazon used to provide great service until 202...   \n",
       "4              4  Well, y'all lot know what it is. It is the one...   \n",
       "\n",
       "  review_location  \n",
       "0              US  \n",
       "1              US  \n",
       "2              US  \n",
       "3              GB  \n",
       "4              DE  "
      ]
     },
     "execution_count": 25,
     "metadata": {},
     "output_type": "execute_result"
    }
   ],
   "source": [
    "amazon_raw= df = pd.read_excel(\"./data/amazon_neutral.xlsx\")\n",
    "amazon_raw.head()"
   ]
  },
  {
   "cell_type": "code",
   "execution_count": 26,
   "id": "8ccc5ede-f86b-402f-9a66-792b948def31",
   "metadata": {},
   "outputs": [
    {
     "data": {
      "text/html": [
       "<div>\n",
       "<style scoped>\n",
       "    .dataframe tbody tr th:only-of-type {\n",
       "        vertical-align: middle;\n",
       "    }\n",
       "\n",
       "    .dataframe tbody tr th {\n",
       "        vertical-align: top;\n",
       "    }\n",
       "\n",
       "    .dataframe thead th {\n",
       "        text-align: right;\n",
       "    }\n",
       "</style>\n",
       "<table border=\"1\" class=\"dataframe\">\n",
       "  <thead>\n",
       "    <tr style=\"text-align: right;\">\n",
       "      <th></th>\n",
       "      <th>review_title</th>\n",
       "      <th>review_rating</th>\n",
       "      <th>review_content</th>\n",
       "      <th>source</th>\n",
       "    </tr>\n",
       "  </thead>\n",
       "  <tbody>\n",
       "    <tr>\n",
       "      <th>0</th>\n",
       "      <td>Bad experience with marketplace seller</td>\n",
       "      <td>2</td>\n",
       "      <td>Unfortunately I had a bad experience which, on...</td>\n",
       "      <td>amazon_neutral</td>\n",
       "    </tr>\n",
       "    <tr>\n",
       "      <th>1</th>\n",
       "      <td>I always buy products from Amazon</td>\n",
       "      <td>1</td>\n",
       "      <td>I always buy products from Amazon, BUT if ther...</td>\n",
       "      <td>amazon_neutral</td>\n",
       "    </tr>\n",
       "    <tr>\n",
       "      <th>2</th>\n",
       "      <td>No help as usual, this time with the new “One ...</td>\n",
       "      <td>1</td>\n",
       "      <td>I buy products but getting any help is incredi...</td>\n",
       "      <td>amazon_neutral</td>\n",
       "    </tr>\n",
       "    <tr>\n",
       "      <th>3</th>\n",
       "      <td>Touching rock bottom in 2024</td>\n",
       "      <td>1</td>\n",
       "      <td>Amazon used to provide great service until 202...</td>\n",
       "      <td>amazon_neutral</td>\n",
       "    </tr>\n",
       "    <tr>\n",
       "      <th>4</th>\n",
       "      <td>Well</td>\n",
       "      <td>4</td>\n",
       "      <td>Well, y'all lot know what it is. It is the one...</td>\n",
       "      <td>amazon_neutral</td>\n",
       "    </tr>\n",
       "  </tbody>\n",
       "</table>\n",
       "</div>"
      ],
      "text/plain": [
       "                                        review_title  review_rating  \\\n",
       "0             Bad experience with marketplace seller              2   \n",
       "1                  I always buy products from Amazon              1   \n",
       "2  No help as usual, this time with the new “One ...              1   \n",
       "3                       Touching rock bottom in 2024              1   \n",
       "4                                               Well              4   \n",
       "\n",
       "                                      review_content          source  \n",
       "0  Unfortunately I had a bad experience which, on...  amazon_neutral  \n",
       "1  I always buy products from Amazon, BUT if ther...  amazon_neutral  \n",
       "2  I buy products but getting any help is incredi...  amazon_neutral  \n",
       "3  Amazon used to provide great service until 202...  amazon_neutral  \n",
       "4  Well, y'all lot know what it is. It is the one...  amazon_neutral  "
      ]
     },
     "execution_count": 26,
     "metadata": {},
     "output_type": "execute_result"
    }
   ],
   "source": [
    "# We drop the unnecessary columns, rename them according our first df and add the source\n",
    "\n",
    "amazon_data = amazon_raw.drop(columns=[\"review_id\",\"review_date\",\"review_location\"],axis=1)\n",
    "amazon_data[\"source\"] = \"amazon_neutral\"\n",
    "amazon_data.head()"
   ]
  },
  {
   "cell_type": "code",
   "execution_count": 27,
   "id": "cd5c7234-cafa-4599-8713-c6f8ae4d041b",
   "metadata": {},
   "outputs": [
    {
     "name": "stdout",
     "output_type": "stream",
     "text": [
      "<class 'pandas.core.frame.DataFrame'>\n",
      "RangeIndex: 820 entries, 0 to 819\n",
      "Data columns (total 4 columns):\n",
      " #   Column          Non-Null Count  Dtype \n",
      "---  ------          --------------  ----- \n",
      " 0   review_title    820 non-null    object\n",
      " 1   review_rating   820 non-null    int64 \n",
      " 2   review_content  764 non-null    object\n",
      " 3   source          820 non-null    object\n",
      "dtypes: int64(1), object(3)\n",
      "memory usage: 25.8+ KB\n"
     ]
    }
   ],
   "source": [
    "amazon_data.info()"
   ]
  },
  {
   "cell_type": "code",
   "execution_count": 28,
   "id": "417d76d5-9d72-4a15-a43e-c8d0e28e2374",
   "metadata": {},
   "outputs": [],
   "source": [
    "mowdirect_raw=pd.read_excel(\"./data/mowdirect_neutral.xlsx\")"
   ]
  },
  {
   "cell_type": "code",
   "execution_count": 29,
   "id": "a78c519e-8080-453b-8962-dd75bbcad01c",
   "metadata": {},
   "outputs": [
    {
     "data": {
      "text/html": [
       "<div>\n",
       "<style scoped>\n",
       "    .dataframe tbody tr th:only-of-type {\n",
       "        vertical-align: middle;\n",
       "    }\n",
       "\n",
       "    .dataframe tbody tr th {\n",
       "        vertical-align: top;\n",
       "    }\n",
       "\n",
       "    .dataframe thead th {\n",
       "        text-align: right;\n",
       "    }\n",
       "</style>\n",
       "<table border=\"1\" class=\"dataframe\">\n",
       "  <thead>\n",
       "    <tr style=\"text-align: right;\">\n",
       "      <th></th>\n",
       "      <th>review_title</th>\n",
       "      <th>review_rating</th>\n",
       "      <th>review_content</th>\n",
       "      <th>source</th>\n",
       "    </tr>\n",
       "  </thead>\n",
       "  <tbody>\n",
       "    <tr>\n",
       "      <th>0</th>\n",
       "      <td>Very slow with delivery</td>\n",
       "      <td>3</td>\n",
       "      <td>It was not in stock and it required my husband...</td>\n",
       "      <td>mowdirect_neutral</td>\n",
       "    </tr>\n",
       "    <tr>\n",
       "      <th>1</th>\n",
       "      <td>Not a great service</td>\n",
       "      <td>3</td>\n",
       "      <td>My first mower was lost in transit, this was r...</td>\n",
       "      <td>mowdirect_neutral</td>\n",
       "    </tr>\n",
       "    <tr>\n",
       "      <th>2</th>\n",
       "      <td>Good communcation, ignored</td>\n",
       "      <td>3</td>\n",
       "      <td>Items could not be delivered as specified. Whe...</td>\n",
       "      <td>mowdirect_neutral</td>\n",
       "    </tr>\n",
       "    <tr>\n",
       "      <th>3</th>\n",
       "      <td>In many ways a very professional company</td>\n",
       "      <td>3</td>\n",
       "      <td>When I placed my order, they phoned two days p...</td>\n",
       "      <td>mowdirect_neutral</td>\n",
       "    </tr>\n",
       "    <tr>\n",
       "      <th>4</th>\n",
       "      <td>ordered not been sent out.</td>\n",
       "      <td>3</td>\n",
       "      <td>When I first ordered the mower the assistant s...</td>\n",
       "      <td>mowdirect_neutral</td>\n",
       "    </tr>\n",
       "  </tbody>\n",
       "</table>\n",
       "</div>"
      ],
      "text/plain": [
       "                               review_title  review_rating  \\\n",
       "0                   Very slow with delivery              3   \n",
       "1                       Not a great service              3   \n",
       "2                Good communcation, ignored              3   \n",
       "3  In many ways a very professional company              3   \n",
       "4                ordered not been sent out.              3   \n",
       "\n",
       "                                      review_content             source  \n",
       "0  It was not in stock and it required my husband...  mowdirect_neutral  \n",
       "1  My first mower was lost in transit, this was r...  mowdirect_neutral  \n",
       "2  Items could not be delivered as specified. Whe...  mowdirect_neutral  \n",
       "3  When I placed my order, they phoned two days p...  mowdirect_neutral  \n",
       "4  When I first ordered the mower the assistant s...  mowdirect_neutral  "
      ]
     },
     "execution_count": 29,
     "metadata": {},
     "output_type": "execute_result"
    }
   ],
   "source": [
    "# We drop the unnecessary columns, rename them according our first df and add the source\n",
    "\n",
    "mowdirect_data = mowdirect_raw.drop(columns=[\"review_id\",\"review_date\",\"review_location\"],axis=1)\n",
    "mowdirect_data[\"source\"] = \"mowdirect_neutral\"\n",
    "mowdirect_data.head()"
   ]
  },
  {
   "cell_type": "code",
   "execution_count": 30,
   "id": "6510cd73-68b6-48e5-bcbd-39821b2461fa",
   "metadata": {},
   "outputs": [
    {
     "name": "stdout",
     "output_type": "stream",
     "text": [
      "<class 'pandas.core.frame.DataFrame'>\n",
      "RangeIndex: 582 entries, 0 to 581\n",
      "Data columns (total 4 columns):\n",
      " #   Column          Non-Null Count  Dtype \n",
      "---  ------          --------------  ----- \n",
      " 0   review_title    582 non-null    object\n",
      " 1   review_rating   582 non-null    int64 \n",
      " 2   review_content  574 non-null    object\n",
      " 3   source          582 non-null    object\n",
      "dtypes: int64(1), object(3)\n",
      "memory usage: 18.3+ KB\n"
     ]
    }
   ],
   "source": [
    "mowdirect_data.info()"
   ]
  },
  {
   "cell_type": "code",
   "execution_count": 31,
   "id": "30b3edde-29e8-4bcf-bf7f-be0fc515c949",
   "metadata": {},
   "outputs": [],
   "source": [
    "# We proceed to concatenate all 6 df:\n",
    "\n",
    "data = pd.concat([expondo_data, bank_data,asos_data,trustpilot_mix_data,amazon_data,mowdirect_data])"
   ]
  },
  {
   "cell_type": "code",
   "execution_count": 32,
   "id": "a8f5d8de-5b67-4336-8fd0-489fc844f916",
   "metadata": {},
   "outputs": [
    {
     "data": {
      "text/html": [
       "<div>\n",
       "<style scoped>\n",
       "    .dataframe tbody tr th:only-of-type {\n",
       "        vertical-align: middle;\n",
       "    }\n",
       "\n",
       "    .dataframe tbody tr th {\n",
       "        vertical-align: top;\n",
       "    }\n",
       "\n",
       "    .dataframe thead th {\n",
       "        text-align: right;\n",
       "    }\n",
       "</style>\n",
       "<table border=\"1\" class=\"dataframe\">\n",
       "  <thead>\n",
       "    <tr style=\"text-align: right;\">\n",
       "      <th></th>\n",
       "      <th>review_title</th>\n",
       "      <th>review_rating</th>\n",
       "      <th>review_content</th>\n",
       "      <th>source</th>\n",
       "    </tr>\n",
       "  </thead>\n",
       "  <tbody>\n",
       "    <tr>\n",
       "      <th>0</th>\n",
       "      <td>TIG (WIG) welder, model S-WIGMA 200PDC</td>\n",
       "      <td>5</td>\n",
       "      <td>I ordered a TIG (WIG) / MMA welder, model S-WI...</td>\n",
       "      <td>expondo</td>\n",
       "    </tr>\n",
       "    <tr>\n",
       "      <th>1</th>\n",
       "      <td>Awesome experience</td>\n",
       "      <td>5</td>\n",
       "      <td>Awesome experience. We had to use their custom...</td>\n",
       "      <td>expondo</td>\n",
       "    </tr>\n",
       "    <tr>\n",
       "      <th>2</th>\n",
       "      <td>The product arrived on time all the…</td>\n",
       "      <td>5</td>\n",
       "      <td>The product arrived on time all the assembly d...</td>\n",
       "      <td>expondo</td>\n",
       "    </tr>\n",
       "    <tr>\n",
       "      <th>3</th>\n",
       "      <td>Good and fast delivery</td>\n",
       "      <td>5</td>\n",
       "      <td>Good and fast delivery of this amazing standin...</td>\n",
       "      <td>expondo</td>\n",
       "    </tr>\n",
       "    <tr>\n",
       "      <th>4</th>\n",
       "      <td>Bad invoice cross-border purchase - no contact...</td>\n",
       "      <td>1</td>\n",
       "      <td>Bad invoice - DPH on invoice - shipping to slo...</td>\n",
       "      <td>expondo</td>\n",
       "    </tr>\n",
       "  </tbody>\n",
       "</table>\n",
       "</div>"
      ],
      "text/plain": [
       "                                        review_title  review_rating  \\\n",
       "0             TIG (WIG) welder, model S-WIGMA 200PDC              5   \n",
       "1                                 Awesome experience              5   \n",
       "2               The product arrived on time all the…              5   \n",
       "3                             Good and fast delivery              5   \n",
       "4  Bad invoice cross-border purchase - no contact...              1   \n",
       "\n",
       "                                      review_content   source  \n",
       "0  I ordered a TIG (WIG) / MMA welder, model S-WI...  expondo  \n",
       "1  Awesome experience. We had to use their custom...  expondo  \n",
       "2  The product arrived on time all the assembly d...  expondo  \n",
       "3  Good and fast delivery of this amazing standin...  expondo  \n",
       "4  Bad invoice - DPH on invoice - shipping to slo...  expondo  "
      ]
     },
     "execution_count": 32,
     "metadata": {},
     "output_type": "execute_result"
    }
   ],
   "source": [
    "data.head()"
   ]
  },
  {
   "cell_type": "code",
   "execution_count": 33,
   "id": "8dfa3970-e632-4887-a682-3151be232dc0",
   "metadata": {},
   "outputs": [
    {
     "data": {
      "text/plain": [
       "(32331, 4)"
      ]
     },
     "execution_count": 33,
     "metadata": {},
     "output_type": "execute_result"
    }
   ],
   "source": [
    "data.shape"
   ]
  },
  {
   "cell_type": "code",
   "execution_count": 34,
   "id": "59e1095c-4af9-4dd3-94ed-dd247bbc6b3b",
   "metadata": {},
   "outputs": [
    {
     "data": {
      "text/plain": [
       "dtype('O')"
      ]
     },
     "execution_count": 34,
     "metadata": {},
     "output_type": "execute_result"
    }
   ],
   "source": [
    "# We will pass the review_rating as object/ string, as we want to check for white spaces and also consider them as categorical\n",
    "\n",
    "data[\"review_content\"] = data[\"review_content\"].astype(str)\n",
    "data[\"review_title\"] = data[\"review_title\"].astype(str)\n",
    "data[\"review_rating\"] = data[\"review_rating\"].astype(str)\n",
    "data.dtypes[\"review_rating\"]"
   ]
  },
  {
   "cell_type": "code",
   "execution_count": 35,
   "id": "d421b64a-4e2d-4bd1-979f-3c4b788e4c61",
   "metadata": {},
   "outputs": [
    {
     "data": {
      "text/plain": [
       "array(['5', '1', '4', '3', '2'], dtype=object)"
      ]
     },
     "execution_count": 35,
     "metadata": {},
     "output_type": "execute_result"
    }
   ],
   "source": [
    "# We do some exploratory analysis\n",
    "\n",
    "data.review_rating.unique()"
   ]
  },
  {
   "cell_type": "code",
   "execution_count": 36,
   "id": "2303bf88-8fc5-488a-ac58-e903fc94ef66",
   "metadata": {},
   "outputs": [
    {
     "data": {
      "text/plain": [
       "0"
      ]
     },
     "execution_count": 36,
     "metadata": {},
     "output_type": "execute_result"
    }
   ],
   "source": [
    "data.review_rating.isna().sum()"
   ]
  },
  {
   "cell_type": "code",
   "execution_count": 37,
   "id": "7b0e9038-1ce0-4387-8aa4-4efe936f691a",
   "metadata": {},
   "outputs": [
    {
     "name": "stdout",
     "output_type": "stream",
     "text": [
      "\n",
      "Number of rows with duplicates: 32331\n",
      "\n",
      "Number of duplicated rows  60\n",
      "\n",
      "The indexes of the duplicated rows are:\n",
      "\n",
      " [41, 47, 48, 56, 59, 69, 76, 88, 140, 155, 19755, 24104, 24126, 24149, 24241, 24290, 24318, 24343, 24401, 24423, 24434, 24499, 24500, 24502, 20, 21, 22, 23, 24, 25, 26, 27, 28, 29, 30, 31, 32, 33, 34, 35, 36, 37, 38, 39, 1674, 1700, 1797, 2185, 2307, 2350, 2424, 2514, 2628, 2988, 3268, 3462, 3536, 395, 575, 592]\n",
      "\n",
      "Number of rows without duplicates: 32271\n"
     ]
    }
   ],
   "source": [
    "# Checking for duplicates\n",
    "duplicates = data.duplicated()\n",
    "\n",
    "# Filter the DataFrame to show only the duplicate rows\n",
    "duplicate_rows = data[duplicates]\n",
    "\n",
    "# Display the result\n",
    "\n",
    "print(\"\\nNumber of rows with duplicates:\",data.shape[0])\n",
    "print(\"\\nNumber of duplicated rows \",len(duplicate_rows))\n",
    "index_duplicates = data[duplicates].index.tolist()\n",
    "print(\"\\nThe indexes of the duplicated rows are:\\n\\n\",index_duplicates)\n",
    "data_no_duplicates = data.drop_duplicates()\n",
    "print(\"\\nNumber of rows without duplicates:\",data_no_duplicates.shape[0])"
   ]
  },
  {
   "cell_type": "code",
   "execution_count": 38,
   "id": "21622369-3a86-4ece-835a-631185ba51cd",
   "metadata": {},
   "outputs": [],
   "source": [
    "# We reassign the df variable to that without duplicates\n",
    "data = data_no_duplicates"
   ]
  },
  {
   "cell_type": "code",
   "execution_count": 39,
   "id": "4bafa24b-62f1-451e-b83a-04836e6171a1",
   "metadata": {},
   "outputs": [
    {
     "data": {
      "text/plain": [
       "0"
      ]
     },
     "execution_count": 39,
     "metadata": {},
     "output_type": "execute_result"
    }
   ],
   "source": [
    "# We check for NaN values:\n",
    "data['review_content'].isna().sum()"
   ]
  },
  {
   "cell_type": "code",
   "execution_count": 40,
   "id": "32b39858-2411-4c88-9287-4f5df59e067f",
   "metadata": {},
   "outputs": [
    {
     "data": {
      "text/plain": [
       "0"
      ]
     },
     "execution_count": 40,
     "metadata": {},
     "output_type": "execute_result"
    }
   ],
   "source": [
    "# We proceed to filter out the NaN values\n",
    "data = data[data['review_content'].isna() == False]\n",
    "data['review_content'].isna().sum()"
   ]
  },
  {
   "cell_type": "code",
   "execution_count": 41,
   "id": "63922c84-7972-498e-8a27-658e4b001678",
   "metadata": {},
   "outputs": [],
   "source": [
    "# We create a copy at this stage of the data df, containing capitals, symbols, icons, emojis, etc., since some of the models seem to perform better with this characteristics\n",
    "data_uncleaned = data.copy()"
   ]
  },
  {
   "cell_type": "code",
   "execution_count": 79,
   "id": "cf64eda4-c8a8-414a-9b0b-896e0915281d",
   "metadata": {},
   "outputs": [],
   "source": [
    "data_uncleaned.to_csv(\"./data/data_uncleaned.csv\")"
   ]
  },
  {
   "cell_type": "code",
   "execution_count": 42,
   "id": "422608d8-cf89-4d39-9f8f-c1ad86f9ef4a",
   "metadata": {},
   "outputs": [],
   "source": [
    "# We create a function to lowercase all the content of the column on a dataset\n",
    "\n",
    "def lower_case_df(df:pd.DataFrame)-> pd.DataFrame:\n",
    "    '''\n",
    "    This function lowercases the content of all the columns inside a df\n",
    "    input: \n",
    "    df to be lowercased\n",
    "    output:\n",
    "    content of all columns lowercased\n",
    "    '''\n",
    "    df2=df.copy()\n",
    "    for col in df2.columns:\n",
    "        df2[col] = df2[col].apply(lambda x: x.lower() if isinstance(x, str) else x)\n",
    "    return df2\n",
    "        "
   ]
  },
  {
   "cell_type": "code",
   "execution_count": 43,
   "id": "e41d78f6-d49c-4899-ba97-1682f692c37c",
   "metadata": {},
   "outputs": [],
   "source": [
    "# We proceed to lowercase the entire df:\n",
    "\n",
    "data = lower_case_df(data)"
   ]
  },
  {
   "cell_type": "code",
   "execution_count": 44,
   "id": "a1ca3da3-1cb2-4de2-8cc9-985c200d6d72",
   "metadata": {},
   "outputs": [
    {
     "data": {
      "text/plain": [
       "review_rating\n",
       "5    24136\n",
       "1     3688\n",
       "4     2199\n",
       "3     1836\n",
       "2      412\n",
       "Name: count, dtype: int64"
      ]
     },
     "execution_count": 44,
     "metadata": {},
     "output_type": "execute_result"
    }
   ],
   "source": [
    "data[\"review_rating\"].value_counts()"
   ]
  },
  {
   "cell_type": "code",
   "execution_count": 45,
   "id": "29e5977b-9f54-4a66-8560-020a2987007d",
   "metadata": {},
   "outputs": [],
   "source": [
    "# We create a cleaning function to clean the text data and have a version of the df lowercased and without special characters:\n",
    "\n",
    "def clean_up(s):\n",
    "    \"\"\"\n",
    "    Cleans up numbers, URLs, and special characters from a string.\n",
    "\n",
    "    Args:\n",
    "        s: The string to be cleaned up.\n",
    "\n",
    "    Returns:\n",
    "        A string that has been cleaned up.\n",
    "    \"\"\"\n",
    "    s = s.lower()\n",
    "    s = re.sub(r'(http|https|ftp|ssh)://([\\w_-]+(?:(?:\\.[\\w_-]+)+))([\\w.,@?^=%&:/~+#-]*[\\w@?^=%&/~+#-])?', ' ', s)\n",
    "    s= re.sub(r'\\d+',' ',s) # Replace one or more digits by  ' '\n",
    "    s = re.sub(r'\\W+',' ',s) # Replace everything non-alpahnumeric by ' '\n",
    "    s = BeautifulSoup(s, 'lxml').get_text().strip()\n",
    "\n",
    "    return s"
   ]
  },
  {
   "cell_type": "code",
   "execution_count": 46,
   "id": "99b3cb76-4135-44b1-b5d7-65a53f961412",
   "metadata": {},
   "outputs": [],
   "source": [
    "# We apply the previous function to the 2 text columns:\n",
    "\n",
    "data[\"review_content\"] = data[\"review_content\"].apply(lambda x: clean_up(x))\n",
    "data[\"review_title\"] = data[\"review_title\"].apply(lambda x: clean_up(x))"
   ]
  },
  {
   "cell_type": "code",
   "execution_count": 48,
   "id": "6958582a-0301-4b32-bcb8-f9ede60280d2",
   "metadata": {},
   "outputs": [
    {
     "name": "stdout",
     "output_type": "stream",
     "text": [
      "Rows before checking if white spaces on texts columns: 32271\n"
     ]
    }
   ],
   "source": [
    "# Data shape before checking if white spaces on texts columns:\n",
    "print(\"Rows before checking if white spaces on texts columns:\", data.shape[0])"
   ]
  },
  {
   "cell_type": "code",
   "execution_count": 53,
   "id": "c7f7a81b-c99b-45d7-848b-335d3171a54a",
   "metadata": {},
   "outputs": [],
   "source": [
    "empty_values_content = data['review_content'].eq('') | data['review_content'].eq(' ') | data['review_content'].eq('  ') | data['review_content'].str.isspace()"
   ]
  },
  {
   "cell_type": "code",
   "execution_count": 54,
   "id": "6274b28b-2e4f-4109-b444-088dbb3cc992",
   "metadata": {},
   "outputs": [],
   "source": [
    "empty_values_title = data['review_title'].eq('') | data['review_title'].eq(' ') | data['review_title'].eq('  ') | data['review_title'].str.isspace()"
   ]
  },
  {
   "cell_type": "code",
   "execution_count": 55,
   "id": "29cbec22-ebd1-4612-8302-5c3bac4f7c58",
   "metadata": {},
   "outputs": [],
   "source": [
    "empty_values_rating = data['review_rating'].eq('') | data['review_rating'].eq(' ') | data['review_rating'].eq('  ') | data['review_rating'].str.isspace()"
   ]
  },
  {
   "cell_type": "code",
   "execution_count": 49,
   "id": "0879f661-f64e-4010-9bb2-c4d0c86d4cf7",
   "metadata": {},
   "outputs": [
    {
     "name": "stdout",
     "output_type": "stream",
     "text": [
      "Sum of emmpty values on the title are: 37\n",
      "Sum of emmpty values on the review content are: 5\n",
      "Sum of emmpty values on the review rating are: 0\n"
     ]
    }
   ],
   "source": [
    "print(\"Sum of empty values on the title are:\",empty_values_title.sum())\n",
    "print(\"Sum of empty values on the review content are:\",empty_values_content.sum())\n",
    "print(\"Sum of empty values on the review rating are:\",empty_values_rating.sum())"
   ]
  },
  {
   "cell_type": "code",
   "execution_count": 56,
   "id": "46a42e02-4654-4ea6-92ff-a712a2d42325",
   "metadata": {},
   "outputs": [],
   "source": [
    "data.drop(data[empty_values_title].index, inplace=True)"
   ]
  },
  {
   "cell_type": "code",
   "execution_count": 57,
   "id": "e733040b-4bd1-4e29-8876-c9e750e1b777",
   "metadata": {},
   "outputs": [
    {
     "name": "stderr",
     "output_type": "stream",
     "text": [
      "C:\\Users\\e.sansebastian\\AppData\\Local\\Temp\\ipykernel_26724\\1536672269.py:1: UserWarning: Boolean Series key will be reindexed to match DataFrame index.\n",
      "  data.drop(data[empty_values_content].index, inplace=True)\n"
     ]
    }
   ],
   "source": [
    "data.drop(data[empty_values_content].index, inplace=True)"
   ]
  },
  {
   "cell_type": "code",
   "execution_count": 58,
   "id": "d702d812-eba1-44d0-ad9c-48db46166945",
   "metadata": {},
   "outputs": [
    {
     "name": "stderr",
     "output_type": "stream",
     "text": [
      "C:\\Users\\e.sansebastian\\AppData\\Local\\Temp\\ipykernel_26724\\3951574863.py:1: UserWarning: Boolean Series key will be reindexed to match DataFrame index.\n",
      "  data.drop(data[empty_values_rating].index, inplace=True)\n"
     ]
    }
   ],
   "source": [
    "data.drop(data[empty_values_rating].index, inplace=True)"
   ]
  },
  {
   "cell_type": "code",
   "execution_count": 60,
   "id": "6aa33242-ed3f-441e-b32b-34483828cef2",
   "metadata": {},
   "outputs": [
    {
     "name": "stdout",
     "output_type": "stream",
     "text": [
      "Rows after checking if white spaces on texts columns: 32200\n"
     ]
    }
   ],
   "source": [
    "# Data shape after removing white spaces on texts columns:\n",
    "print(\"Rows after checking if white spaces on texts columns:\", data.shape[0])"
   ]
  },
  {
   "cell_type": "code",
   "execution_count": 61,
   "id": "6bcc56c4-9e12-4e36-92f2-c1f700b1397c",
   "metadata": {},
   "outputs": [],
   "source": [
    "# We store a cleaned version of the cleaned data before checking the class balance\n",
    "data.to_csv(\"./data/df_premodel.csv\",index=False,sep=\";\")"
   ]
  },
  {
   "cell_type": "markdown",
   "id": "2574bf74-5b53-4ef0-9e6c-385f3e2eda6d",
   "metadata": {},
   "source": [
    "## Checking class balance"
   ]
  },
  {
   "cell_type": "code",
   "execution_count": 62,
   "id": "edc3ed2b-d504-400f-a6b5-c265b1f36c62",
   "metadata": {},
   "outputs": [
    {
     "data": {
      "text/html": [
       "<div>\n",
       "<style scoped>\n",
       "    .dataframe tbody tr th:only-of-type {\n",
       "        vertical-align: middle;\n",
       "    }\n",
       "\n",
       "    .dataframe tbody tr th {\n",
       "        vertical-align: top;\n",
       "    }\n",
       "\n",
       "    .dataframe thead th {\n",
       "        text-align: right;\n",
       "    }\n",
       "</style>\n",
       "<table border=\"1\" class=\"dataframe\">\n",
       "  <thead>\n",
       "    <tr style=\"text-align: right;\">\n",
       "      <th></th>\n",
       "      <th>source</th>\n",
       "      <th>review_rating</th>\n",
       "      <th>count</th>\n",
       "    </tr>\n",
       "  </thead>\n",
       "  <tbody>\n",
       "    <tr>\n",
       "      <th>0</th>\n",
       "      <td>amazon_neutral</td>\n",
       "      <td>1</td>\n",
       "      <td>15</td>\n",
       "    </tr>\n",
       "    <tr>\n",
       "      <th>1</th>\n",
       "      <td>amazon_neutral</td>\n",
       "      <td>2</td>\n",
       "      <td>2</td>\n",
       "    </tr>\n",
       "    <tr>\n",
       "      <th>2</th>\n",
       "      <td>amazon_neutral</td>\n",
       "      <td>3</td>\n",
       "      <td>793</td>\n",
       "    </tr>\n",
       "    <tr>\n",
       "      <th>3</th>\n",
       "      <td>amazon_neutral</td>\n",
       "      <td>4</td>\n",
       "      <td>1</td>\n",
       "    </tr>\n",
       "    <tr>\n",
       "      <th>4</th>\n",
       "      <td>amazon_neutral</td>\n",
       "      <td>5</td>\n",
       "      <td>2</td>\n",
       "    </tr>\n",
       "    <tr>\n",
       "      <th>5</th>\n",
       "      <td>asos</td>\n",
       "      <td>1</td>\n",
       "      <td>1796</td>\n",
       "    </tr>\n",
       "    <tr>\n",
       "      <th>6</th>\n",
       "      <td>asos</td>\n",
       "      <td>2</td>\n",
       "      <td>120</td>\n",
       "    </tr>\n",
       "    <tr>\n",
       "      <th>7</th>\n",
       "      <td>asos</td>\n",
       "      <td>3</td>\n",
       "      <td>77</td>\n",
       "    </tr>\n",
       "    <tr>\n",
       "      <th>8</th>\n",
       "      <td>bank</td>\n",
       "      <td>1</td>\n",
       "      <td>1231</td>\n",
       "    </tr>\n",
       "    <tr>\n",
       "      <th>9</th>\n",
       "      <td>bank</td>\n",
       "      <td>2</td>\n",
       "      <td>211</td>\n",
       "    </tr>\n",
       "    <tr>\n",
       "      <th>10</th>\n",
       "      <td>bank</td>\n",
       "      <td>3</td>\n",
       "      <td>329</td>\n",
       "    </tr>\n",
       "    <tr>\n",
       "      <th>11</th>\n",
       "      <td>bank</td>\n",
       "      <td>4</td>\n",
       "      <td>1987</td>\n",
       "    </tr>\n",
       "    <tr>\n",
       "      <th>12</th>\n",
       "      <td>bank</td>\n",
       "      <td>5</td>\n",
       "      <td>21157</td>\n",
       "    </tr>\n",
       "    <tr>\n",
       "      <th>13</th>\n",
       "      <td>expondo</td>\n",
       "      <td>1</td>\n",
       "      <td>45</td>\n",
       "    </tr>\n",
       "    <tr>\n",
       "      <th>14</th>\n",
       "      <td>expondo</td>\n",
       "      <td>2</td>\n",
       "      <td>3</td>\n",
       "    </tr>\n",
       "    <tr>\n",
       "      <th>15</th>\n",
       "      <td>expondo</td>\n",
       "      <td>3</td>\n",
       "      <td>2</td>\n",
       "    </tr>\n",
       "    <tr>\n",
       "      <th>16</th>\n",
       "      <td>expondo</td>\n",
       "      <td>4</td>\n",
       "      <td>12</td>\n",
       "    </tr>\n",
       "    <tr>\n",
       "      <th>17</th>\n",
       "      <td>expondo</td>\n",
       "      <td>5</td>\n",
       "      <td>165</td>\n",
       "    </tr>\n",
       "    <tr>\n",
       "      <th>18</th>\n",
       "      <td>mowdirect_neutral</td>\n",
       "      <td>1</td>\n",
       "      <td>2</td>\n",
       "    </tr>\n",
       "    <tr>\n",
       "      <th>19</th>\n",
       "      <td>mowdirect_neutral</td>\n",
       "      <td>2</td>\n",
       "      <td>1</td>\n",
       "    </tr>\n",
       "    <tr>\n",
       "      <th>20</th>\n",
       "      <td>mowdirect_neutral</td>\n",
       "      <td>3</td>\n",
       "      <td>559</td>\n",
       "    </tr>\n",
       "    <tr>\n",
       "      <th>21</th>\n",
       "      <td>mowdirect_neutral</td>\n",
       "      <td>4</td>\n",
       "      <td>6</td>\n",
       "    </tr>\n",
       "    <tr>\n",
       "      <th>22</th>\n",
       "      <td>mowdirect_neutral</td>\n",
       "      <td>5</td>\n",
       "      <td>10</td>\n",
       "    </tr>\n",
       "    <tr>\n",
       "      <th>23</th>\n",
       "      <td>trustpilot_mix_data</td>\n",
       "      <td>1</td>\n",
       "      <td>591</td>\n",
       "    </tr>\n",
       "    <tr>\n",
       "      <th>24</th>\n",
       "      <td>trustpilot_mix_data</td>\n",
       "      <td>2</td>\n",
       "      <td>74</td>\n",
       "    </tr>\n",
       "    <tr>\n",
       "      <th>25</th>\n",
       "      <td>trustpilot_mix_data</td>\n",
       "      <td>3</td>\n",
       "      <td>67</td>\n",
       "    </tr>\n",
       "    <tr>\n",
       "      <th>26</th>\n",
       "      <td>trustpilot_mix_data</td>\n",
       "      <td>4</td>\n",
       "      <td>187</td>\n",
       "    </tr>\n",
       "    <tr>\n",
       "      <th>27</th>\n",
       "      <td>trustpilot_mix_data</td>\n",
       "      <td>5</td>\n",
       "      <td>2755</td>\n",
       "    </tr>\n",
       "  </tbody>\n",
       "</table>\n",
       "</div>"
      ],
      "text/plain": [
       "                 source review_rating  count\n",
       "0        amazon_neutral             1     15\n",
       "1        amazon_neutral             2      2\n",
       "2        amazon_neutral             3    793\n",
       "3        amazon_neutral             4      1\n",
       "4        amazon_neutral             5      2\n",
       "5                  asos             1   1796\n",
       "6                  asos             2    120\n",
       "7                  asos             3     77\n",
       "8                  bank             1   1231\n",
       "9                  bank             2    211\n",
       "10                 bank             3    329\n",
       "11                 bank             4   1987\n",
       "12                 bank             5  21157\n",
       "13              expondo             1     45\n",
       "14              expondo             2      3\n",
       "15              expondo             3      2\n",
       "16              expondo             4     12\n",
       "17              expondo             5    165\n",
       "18    mowdirect_neutral             1      2\n",
       "19    mowdirect_neutral             2      1\n",
       "20    mowdirect_neutral             3    559\n",
       "21    mowdirect_neutral             4      6\n",
       "22    mowdirect_neutral             5     10\n",
       "23  trustpilot_mix_data             1    591\n",
       "24  trustpilot_mix_data             2     74\n",
       "25  trustpilot_mix_data             3     67\n",
       "26  trustpilot_mix_data             4    187\n",
       "27  trustpilot_mix_data             5   2755"
      ]
     },
     "execution_count": 62,
     "metadata": {},
     "output_type": "execute_result"
    }
   ],
   "source": [
    "# In order to proceed with the data modelling to be able to better predict the sentiment, we are going to check and deal with the class balancing, if necessary.\n",
    "# Before checking the class balance we are going to see how many reviews we have from each source and rating:\n",
    "\n",
    "source_rating_breakdown = data.groupby([\"source\", \"review_rating\"]).size().reset_index(name='count')\n",
    "source_rating_breakdown"
   ]
  },
  {
   "cell_type": "code",
   "execution_count": 63,
   "id": "66b1abd1-5f79-49f3-bb37-fa80195aac1d",
   "metadata": {},
   "outputs": [],
   "source": [
    "# having a look at the distribution of reviews and the potential class inbalance on the neutral and negative reviews (1-3 stars)\n",
    "# we will simply filter out the 5 star ratings from the bank dataset, with which we will still have over 5 K positive reviews"
   ]
  },
  {
   "cell_type": "code",
   "execution_count": 64,
   "id": "e87472a5-e36a-4c45-910a-2820ee3059a8",
   "metadata": {},
   "outputs": [],
   "source": [
    "data = data[~((data[\"source\"] == \"bank\") & (data[\"review_rating\"] == \"5\"))]"
   ]
  },
  {
   "cell_type": "code",
   "execution_count": 65,
   "id": "ee6fd0f2-0d39-4c85-b31e-9301500e7cb9",
   "metadata": {},
   "outputs": [
    {
     "data": {
      "text/plain": [
       "(11043, 4)"
      ]
     },
     "execution_count": 65,
     "metadata": {},
     "output_type": "execute_result"
    }
   ],
   "source": [
    "data.shape"
   ]
  },
  {
   "cell_type": "code",
   "execution_count": 66,
   "id": "71fc9e7a-6b44-41cf-91d7-b604aa54981c",
   "metadata": {},
   "outputs": [],
   "source": [
    "# Since we want to measure the sentiment as positive, neutral and negative, we are going to group the ratings as follows:\n",
    "\n",
    "# 4-5 -> positive\n",
    "# 3 -> neutral\n",
    "# 1-2 -> negative"
   ]
  },
  {
   "cell_type": "code",
   "execution_count": 67,
   "id": "f248d9bf-3474-4f24-b3dc-c48af7fa1756",
   "metadata": {},
   "outputs": [
    {
     "name": "stderr",
     "output_type": "stream",
     "text": [
      "C:\\Users\\e.sansebastian\\AppData\\Local\\Temp\\ipykernel_26724\\3518821174.py:1: SettingWithCopyWarning: \n",
      "A value is trying to be set on a copy of a slice from a DataFrame.\n",
      "Try using .loc[row_indexer,col_indexer] = value instead\n",
      "\n",
      "See the caveats in the documentation: https://pandas.pydata.org/pandas-docs/stable/user_guide/indexing.html#returning-a-view-versus-a-copy\n",
      "  data['sentiment'] = data['review_rating'].apply(lambda x: 'negative' if x in ['1', '2'] else ('neutral' if x == '3' else 'positive'))\n"
     ]
    }
   ],
   "source": [
    "data['sentiment'] = data['review_rating'].apply(lambda x: 'negative' if x in ['1', '2'] else ('neutral' if x == '3' else 'positive'))"
   ]
  },
  {
   "cell_type": "code",
   "execution_count": 68,
   "id": "7a14166d-4701-4769-8dc2-7f1ab58d1a5c",
   "metadata": {},
   "outputs": [
    {
     "data": {
      "text/html": [
       "<div>\n",
       "<style scoped>\n",
       "    .dataframe tbody tr th:only-of-type {\n",
       "        vertical-align: middle;\n",
       "    }\n",
       "\n",
       "    .dataframe tbody tr th {\n",
       "        vertical-align: top;\n",
       "    }\n",
       "\n",
       "    .dataframe thead th {\n",
       "        text-align: right;\n",
       "    }\n",
       "</style>\n",
       "<table border=\"1\" class=\"dataframe\">\n",
       "  <thead>\n",
       "    <tr style=\"text-align: right;\">\n",
       "      <th></th>\n",
       "      <th>sentiment</th>\n",
       "      <th>count</th>\n",
       "    </tr>\n",
       "  </thead>\n",
       "  <tbody>\n",
       "    <tr>\n",
       "      <th>0</th>\n",
       "      <td>negative</td>\n",
       "      <td>4091</td>\n",
       "    </tr>\n",
       "    <tr>\n",
       "      <th>1</th>\n",
       "      <td>neutral</td>\n",
       "      <td>1827</td>\n",
       "    </tr>\n",
       "    <tr>\n",
       "      <th>2</th>\n",
       "      <td>positive</td>\n",
       "      <td>5125</td>\n",
       "    </tr>\n",
       "  </tbody>\n",
       "</table>\n",
       "</div>"
      ],
      "text/plain": [
       "  sentiment  count\n",
       "0  negative   4091\n",
       "1   neutral   1827\n",
       "2  positive   5125"
      ]
     },
     "execution_count": 68,
     "metadata": {},
     "output_type": "execute_result"
    }
   ],
   "source": [
    "sentiment_breakdown = data.groupby(\"sentiment\").size().reset_index(name='count')\n",
    "sentiment_breakdown"
   ]
  },
  {
   "cell_type": "code",
   "execution_count": 69,
   "id": "4a28d6d4-a4ed-4845-a928-ff6bdf5c2035",
   "metadata": {},
   "outputs": [
    {
     "name": "stderr",
     "output_type": "stream",
     "text": [
      "C:\\Users\\e.sansebastian\\OneDrive - Expondo\\Ironhack\\Weeks\\Week_9\\Final_project\\final_project\\Lib\\site-packages\\seaborn\\_base.py:949: FutureWarning: When grouping with a length-1 list-like, you will need to pass a length-1 tuple to get_group in a future version of pandas. Pass `(name,)` instead of `name` to silence this warning.\n",
      "  data_subset = grouped_data.get_group(pd_key)\n",
      "C:\\Users\\e.sansebastian\\OneDrive - Expondo\\Ironhack\\Weeks\\Week_9\\Final_project\\final_project\\Lib\\site-packages\\seaborn\\_base.py:949: FutureWarning: When grouping with a length-1 list-like, you will need to pass a length-1 tuple to get_group in a future version of pandas. Pass `(name,)` instead of `name` to silence this warning.\n",
      "  data_subset = grouped_data.get_group(pd_key)\n",
      "C:\\Users\\e.sansebastian\\OneDrive - Expondo\\Ironhack\\Weeks\\Week_9\\Final_project\\final_project\\Lib\\site-packages\\seaborn\\_base.py:949: FutureWarning: When grouping with a length-1 list-like, you will need to pass a length-1 tuple to get_group in a future version of pandas. Pass `(name,)` instead of `name` to silence this warning.\n",
      "  data_subset = grouped_data.get_group(pd_key)\n"
     ]
    },
    {
     "data": {
      "image/png": "[encoded data removed]",
      "text/plain": [
       "<Figure size 640x480 with 1 Axes>"
      ]
     },
     "metadata": {},
     "output_type": "display_data"
    },
    {
     "data": {
      "text/plain": [
       "sentiment\n",
       "positive    0.464095\n",
       "negative    0.370461\n",
       "neutral     0.165444\n",
       "Name: count, dtype: float64"
      ]
     },
     "metadata": {},
     "output_type": "display_data"
    },
    {
     "name": "stdout",
     "output_type": "stream",
     "text": [
      "\n",
      "The class imbalance ratio is: 0.11\n"
     ]
    },
    {
     "name": "stderr",
     "output_type": "stream",
     "text": [
      "C:\\Users\\e.sansebastian\\AppData\\Local\\Temp\\ipykernel_26724\\2580573833.py:6: FutureWarning: Series.__getitem__ treating keys as positions is deprecated. In a future version, integer keys will always be treated as labels (consistent with DataFrame behavior). To access a value by position, use `ser.iloc[pos]`\n",
      "  print(\"\\nThe class imbalance ratio is: {:.2f}\".format((count_classes[0]-count_classes[1])/(count_classes[0]+count_classes[1])))\n"
     ]
    }
   ],
   "source": [
    "# We plot the column sentiment, which is the one we want to predict. On the plot we can see a clear class imbalance for the positive sentiment\n",
    "sns.countplot(x='sentiment', data=data,hue=\"sentiment\");\n",
    "plt.show()\n",
    "display(data[\"sentiment\"].value_counts()/len(data[\"sentiment\"]))\n",
    "count_classes = data['sentiment'].value_counts()\n",
    "print(\"\\nThe class imbalance ratio is: {:.2f}\".format((count_classes[0]-count_classes[1])/(count_classes[0]+count_classes[1])))"
   ]
  },
  {
   "cell_type": "code",
   "execution_count": 70,
   "id": "ec6879a8-53d9-425f-ae20-5d6ce61ac58b",
   "metadata": {},
   "outputs": [
    {
     "data": {
      "text/html": [
       "<div>\n",
       "<style scoped>\n",
       "    .dataframe tbody tr th:only-of-type {\n",
       "        vertical-align: middle;\n",
       "    }\n",
       "\n",
       "    .dataframe tbody tr th {\n",
       "        vertical-align: top;\n",
       "    }\n",
       "\n",
       "    .dataframe thead th {\n",
       "        text-align: right;\n",
       "    }\n",
       "</style>\n",
       "<table border=\"1\" class=\"dataframe\">\n",
       "  <thead>\n",
       "    <tr style=\"text-align: right;\">\n",
       "      <th></th>\n",
       "      <th>review_title</th>\n",
       "      <th>review_rating</th>\n",
       "      <th>review_content</th>\n",
       "      <th>source</th>\n",
       "      <th>sentiment</th>\n",
       "    </tr>\n",
       "  </thead>\n",
       "  <tbody>\n",
       "    <tr>\n",
       "      <th>0</th>\n",
       "      <td>tig wig welder model s wigma pdc</td>\n",
       "      <td>5</td>\n",
       "      <td>i ordered a tig wig mma welder model s wigma p...</td>\n",
       "      <td>expondo</td>\n",
       "      <td>positive</td>\n",
       "    </tr>\n",
       "    <tr>\n",
       "      <th>1</th>\n",
       "      <td>awesome experience</td>\n",
       "      <td>5</td>\n",
       "      <td>awesome experience we had to use their custome...</td>\n",
       "      <td>expondo</td>\n",
       "      <td>positive</td>\n",
       "    </tr>\n",
       "    <tr>\n",
       "      <th>2</th>\n",
       "      <td>the product arrived on time all the</td>\n",
       "      <td>5</td>\n",
       "      <td>the product arrived on time all the assembly d...</td>\n",
       "      <td>expondo</td>\n",
       "      <td>positive</td>\n",
       "    </tr>\n",
       "    <tr>\n",
       "      <th>3</th>\n",
       "      <td>good and fast delivery</td>\n",
       "      <td>5</td>\n",
       "      <td>good and fast delivery of this amazing standin...</td>\n",
       "      <td>expondo</td>\n",
       "      <td>positive</td>\n",
       "    </tr>\n",
       "    <tr>\n",
       "      <th>4</th>\n",
       "      <td>bad invoice cross border purchase no contact t...</td>\n",
       "      <td>1</td>\n",
       "      <td>bad invoice dph on invoice shipping to slovaki...</td>\n",
       "      <td>expondo</td>\n",
       "      <td>negative</td>\n",
       "    </tr>\n",
       "  </tbody>\n",
       "</table>\n",
       "</div>"
      ],
      "text/plain": [
       "                                        review_title review_rating  \\\n",
       "0                   tig wig welder model s wigma pdc             5   \n",
       "1                                 awesome experience             5   \n",
       "2                the product arrived on time all the             5   \n",
       "3                             good and fast delivery             5   \n",
       "4  bad invoice cross border purchase no contact t...             1   \n",
       "\n",
       "                                      review_content   source sentiment  \n",
       "0  i ordered a tig wig mma welder model s wigma p...  expondo  positive  \n",
       "1  awesome experience we had to use their custome...  expondo  positive  \n",
       "2  the product arrived on time all the assembly d...  expondo  positive  \n",
       "3  good and fast delivery of this amazing standin...  expondo  positive  \n",
       "4  bad invoice dph on invoice shipping to slovaki...  expondo  negative  "
      ]
     },
     "execution_count": 70,
     "metadata": {},
     "output_type": "execute_result"
    }
   ],
   "source": [
    "data.head()"
   ]
  },
  {
   "cell_type": "code",
   "execution_count": 71,
   "id": "1af58a36-6540-4615-b5da-f3d4e5f39833",
   "metadata": {},
   "outputs": [],
   "source": [
    "# having a decent amount of positives and negatives, we proceed to oversample, to increase the neutral class and generate enough samples"
   ]
  },
  {
   "cell_type": "code",
   "execution_count": 72,
   "id": "4886fd27-a44f-4a3f-9bc0-99f4e014a338",
   "metadata": {},
   "outputs": [],
   "source": [
    "# We split the df to process the oversampling\n",
    "\n",
    "from imblearn.over_sampling import RandomOverSampler\n",
    "from sklearn.model_selection import train_test_split\n",
    "\n",
    "X = data  # Adjust if needed\n",
    "y = data['sentiment']\n",
    "\n",
    "# Apply RandomOverSampler to balance the classes\n",
    "oversampler = RandomOverSampler(random_state=42)\n",
    "data_resampled, y_resampled = oversampler.fit_resample(X, y)"
   ]
  },
  {
   "cell_type": "code",
   "execution_count": 73,
   "id": "1e203035-68ec-4e0e-9315-e53f19d9333d",
   "metadata": {},
   "outputs": [
    {
     "data": {
      "text/html": [
       "<div>\n",
       "<style scoped>\n",
       "    .dataframe tbody tr th:only-of-type {\n",
       "        vertical-align: middle;\n",
       "    }\n",
       "\n",
       "    .dataframe tbody tr th {\n",
       "        vertical-align: top;\n",
       "    }\n",
       "\n",
       "    .dataframe thead th {\n",
       "        text-align: right;\n",
       "    }\n",
       "</style>\n",
       "<table border=\"1\" class=\"dataframe\">\n",
       "  <thead>\n",
       "    <tr style=\"text-align: right;\">\n",
       "      <th></th>\n",
       "      <th>review_title</th>\n",
       "      <th>review_rating</th>\n",
       "      <th>review_content</th>\n",
       "      <th>source</th>\n",
       "      <th>sentiment</th>\n",
       "    </tr>\n",
       "  </thead>\n",
       "  <tbody>\n",
       "    <tr>\n",
       "      <th>0</th>\n",
       "      <td>tig wig welder model s wigma pdc</td>\n",
       "      <td>5</td>\n",
       "      <td>i ordered a tig wig mma welder model s wigma p...</td>\n",
       "      <td>expondo</td>\n",
       "      <td>positive</td>\n",
       "    </tr>\n",
       "    <tr>\n",
       "      <th>1</th>\n",
       "      <td>awesome experience</td>\n",
       "      <td>5</td>\n",
       "      <td>awesome experience we had to use their custome...</td>\n",
       "      <td>expondo</td>\n",
       "      <td>positive</td>\n",
       "    </tr>\n",
       "    <tr>\n",
       "      <th>2</th>\n",
       "      <td>the product arrived on time all the</td>\n",
       "      <td>5</td>\n",
       "      <td>the product arrived on time all the assembly d...</td>\n",
       "      <td>expondo</td>\n",
       "      <td>positive</td>\n",
       "    </tr>\n",
       "    <tr>\n",
       "      <th>3</th>\n",
       "      <td>good and fast delivery</td>\n",
       "      <td>5</td>\n",
       "      <td>good and fast delivery of this amazing standin...</td>\n",
       "      <td>expondo</td>\n",
       "      <td>positive</td>\n",
       "    </tr>\n",
       "    <tr>\n",
       "      <th>4</th>\n",
       "      <td>bad invoice cross border purchase no contact t...</td>\n",
       "      <td>1</td>\n",
       "      <td>bad invoice dph on invoice shipping to slovaki...</td>\n",
       "      <td>expondo</td>\n",
       "      <td>negative</td>\n",
       "    </tr>\n",
       "    <tr>\n",
       "      <th>...</th>\n",
       "      <td>...</td>\n",
       "      <td>...</td>\n",
       "      <td>...</td>\n",
       "      <td>...</td>\n",
       "      <td>...</td>\n",
       "    </tr>\n",
       "    <tr>\n",
       "      <th>15370</th>\n",
       "      <td>crappy product not fit for purpose</td>\n",
       "      <td>3</td>\n",
       "      <td>factory tightened bolts couldn t untighten</td>\n",
       "      <td>mowdirect_neutral</td>\n",
       "      <td>neutral</td>\n",
       "    </tr>\n",
       "    <tr>\n",
       "      <th>15371</th>\n",
       "      <td>beware</td>\n",
       "      <td>3</td>\n",
       "      <td>great place to buy products if dealing directl...</td>\n",
       "      <td>amazon_neutral</td>\n",
       "      <td>neutral</td>\n",
       "    </tr>\n",
       "    <tr>\n",
       "      <th>15372</th>\n",
       "      <td>product is fine and delivered in a</td>\n",
       "      <td>3</td>\n",
       "      <td>product is fine and delivered in a timely fash...</td>\n",
       "      <td>mowdirect_neutral</td>\n",
       "      <td>neutral</td>\n",
       "    </tr>\n",
       "    <tr>\n",
       "      <th>15373</th>\n",
       "      <td>a very professional supplier</td>\n",
       "      <td>3</td>\n",
       "      <td>i found the crossover to a professional suppli...</td>\n",
       "      <td>trustpilot_mix_data</td>\n",
       "      <td>neutral</td>\n",
       "    </tr>\n",
       "    <tr>\n",
       "      <th>15374</th>\n",
       "      <td>cheap prices</td>\n",
       "      <td>3</td>\n",
       "      <td>cheap pricesshipping feesglobal marketing company</td>\n",
       "      <td>amazon_neutral</td>\n",
       "      <td>neutral</td>\n",
       "    </tr>\n",
       "  </tbody>\n",
       "</table>\n",
       "<p>15375 rows × 5 columns</p>\n",
       "</div>"
      ],
      "text/plain": [
       "                                            review_title review_rating  \\\n",
       "0                       tig wig welder model s wigma pdc             5   \n",
       "1                                     awesome experience             5   \n",
       "2                    the product arrived on time all the             5   \n",
       "3                                 good and fast delivery             5   \n",
       "4      bad invoice cross border purchase no contact t...             1   \n",
       "...                                                  ...           ...   \n",
       "15370                 crappy product not fit for purpose             3   \n",
       "15371                                             beware             3   \n",
       "15372                 product is fine and delivered in a             3   \n",
       "15373                       a very professional supplier             3   \n",
       "15374                                       cheap prices             3   \n",
       "\n",
       "                                          review_content               source  \\\n",
       "0      i ordered a tig wig mma welder model s wigma p...              expondo   \n",
       "1      awesome experience we had to use their custome...              expondo   \n",
       "2      the product arrived on time all the assembly d...              expondo   \n",
       "3      good and fast delivery of this amazing standin...              expondo   \n",
       "4      bad invoice dph on invoice shipping to slovaki...              expondo   \n",
       "...                                                  ...                  ...   \n",
       "15370         factory tightened bolts couldn t untighten    mowdirect_neutral   \n",
       "15371  great place to buy products if dealing directl...       amazon_neutral   \n",
       "15372  product is fine and delivered in a timely fash...    mowdirect_neutral   \n",
       "15373  i found the crossover to a professional suppli...  trustpilot_mix_data   \n",
       "15374  cheap pricesshipping feesglobal marketing company       amazon_neutral   \n",
       "\n",
       "      sentiment  \n",
       "0      positive  \n",
       "1      positive  \n",
       "2      positive  \n",
       "3      positive  \n",
       "4      negative  \n",
       "...         ...  \n",
       "15370   neutral  \n",
       "15371   neutral  \n",
       "15372   neutral  \n",
       "15373   neutral  \n",
       "15374   neutral  \n",
       "\n",
       "[15375 rows x 5 columns]"
      ]
     },
     "execution_count": 73,
     "metadata": {},
     "output_type": "execute_result"
    }
   ],
   "source": [
    "data_resampled"
   ]
  },
  {
   "cell_type": "code",
   "execution_count": 74,
   "id": "71e56e7e-c341-4674-8be1-8e8173279bf6",
   "metadata": {},
   "outputs": [],
   "source": [
    "y_resampled_df=pd.DataFrame(y_resampled)"
   ]
  },
  {
   "cell_type": "code",
   "execution_count": 75,
   "id": "b39a30e0-435a-4994-986c-03c6ffda55f0",
   "metadata": {},
   "outputs": [
    {
     "data": {
      "text/plain": [
       "sentiment\n",
       "positive    5125\n",
       "negative    5125\n",
       "neutral     5125\n",
       "Name: count, dtype: int64"
      ]
     },
     "execution_count": 75,
     "metadata": {},
     "output_type": "execute_result"
    }
   ],
   "source": [
    "y_resampled.value_counts()"
   ]
  },
  {
   "cell_type": "code",
   "execution_count": 76,
   "id": "fe951000-5826-455d-a0b7-d3ada5149788",
   "metadata": {},
   "outputs": [
    {
     "name": "stderr",
     "output_type": "stream",
     "text": [
      "C:\\Users\\e.sansebastian\\OneDrive - Expondo\\Ironhack\\Weeks\\Week_9\\Final_project\\final_project\\Lib\\site-packages\\seaborn\\_base.py:949: FutureWarning: When grouping with a length-1 list-like, you will need to pass a length-1 tuple to get_group in a future version of pandas. Pass `(name,)` instead of `name` to silence this warning.\n",
      "  data_subset = grouped_data.get_group(pd_key)\n",
      "C:\\Users\\e.sansebastian\\OneDrive - Expondo\\Ironhack\\Weeks\\Week_9\\Final_project\\final_project\\Lib\\site-packages\\seaborn\\_base.py:949: FutureWarning: When grouping with a length-1 list-like, you will need to pass a length-1 tuple to get_group in a future version of pandas. Pass `(name,)` instead of `name` to silence this warning.\n",
      "  data_subset = grouped_data.get_group(pd_key)\n",
      "C:\\Users\\e.sansebastian\\OneDrive - Expondo\\Ironhack\\Weeks\\Week_9\\Final_project\\final_project\\Lib\\site-packages\\seaborn\\_base.py:949: FutureWarning: When grouping with a length-1 list-like, you will need to pass a length-1 tuple to get_group in a future version of pandas. Pass `(name,)` instead of `name` to silence this warning.\n",
      "  data_subset = grouped_data.get_group(pd_key)\n"
     ]
    },
    {
     "data": {
      "image/png": "[encoded data removed]",
      "text/plain": [
       "<Figure size 640x480 with 1 Axes>"
      ]
     },
     "metadata": {},
     "output_type": "display_data"
    },
    {
     "data": {
      "text/plain": [
       "sentiment\n",
       "positive    0.333333\n",
       "negative    0.333333\n",
       "neutral     0.333333\n",
       "Name: count, dtype: float64"
      ]
     },
     "metadata": {},
     "output_type": "display_data"
    },
    {
     "name": "stdout",
     "output_type": "stream",
     "text": [
      "\n",
      " The new class imbalance ratio after the oversampling is: 0.00\n"
     ]
    },
    {
     "name": "stderr",
     "output_type": "stream",
     "text": [
      "C:\\Users\\e.sansebastian\\AppData\\Local\\Temp\\ipykernel_26724\\3146444488.py:6: FutureWarning: Series.__getitem__ treating keys as positions is deprecated. In a future version, integer keys will always be treated as labels (consistent with DataFrame behavior). To access a value by position, use `ser.iloc[pos]`\n",
      "  print(\"\\n The new class imbalance ratio after the oversampling is: {:.2f}\".format((count_classes[0]-count_classes[1])/(count_classes[0]+count_classes[1])))\n"
     ]
    }
   ],
   "source": [
    "# We plot the column sentiment, which is the one we want to predict. On the plot we can see a clear class imbalance for the positive sentiment\n",
    "sns.countplot(x='sentiment', data=y_resampled_df,hue=\"sentiment\");\n",
    "plt.show()\n",
    "display(y_resampled_df[\"sentiment\"].value_counts()/len(y_resampled_df[\"sentiment\"]))\n",
    "count_classes = y_resampled_df['sentiment'].value_counts()\n",
    "print(\"\\n The new class imbalance ratio after the oversampling is: {:.2f}\".format((count_classes[0]-count_classes[1])/(count_classes[0]+count_classes[1])))"
   ]
  },
  {
   "cell_type": "code",
   "execution_count": 77,
   "id": "a3c81c37-2f82-4f54-9daa-ba3aa02bee99",
   "metadata": {},
   "outputs": [],
   "source": [
    "# We save a version of the resampled df:\n",
    "\n",
    "data_resampled.to_csv(\"data_resampled.csv\",index=False)"
   ]
  },
  {
   "cell_type": "code",
   "execution_count": null,
   "id": "63481351-8494-4670-85df-d3bff2999703",
   "metadata": {},
   "outputs": [],
   "source": []
  }
 ],
 "metadata": {
  "kernelspec": {
   "display_name": "final_project",
   "language": "python",
   "name": "final_project"
  },
  "language_info": {
   "codemirror_mode": {
    "name": "ipython",
    "version": 3
   },
   "file_extension": ".py",
   "mimetype": "text/x-python",
   "name": "python",
   "nbconvert_exporter": "python",
   "pygments_lexer": "ipython3",
   "version": "3.11.5"
  }
 },
 "nbformat": 4,
 "nbformat_minor": 5
}
